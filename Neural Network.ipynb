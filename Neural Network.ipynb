{
 "cells": [
  {
   "cell_type": "markdown",
   "metadata": {},
   "source": [
    "# Neural Network"
   ]
  },
  {
   "cell_type": "markdown",
   "source": [
    "## Import libraries"
   ],
   "metadata": {
    "collapsed": false
   }
  },
  {
   "cell_type": "code",
   "execution_count": 119,
   "metadata": {},
   "outputs": [],
   "source": [
    "import pandas as pd\n",
    "from sklearn.datasets import load_digits # The MNIST data set is in scikit learn data set\n",
    "from sklearn.preprocessing import StandardScaler  # It is important in neural networks to scale the date\n",
    "from sklearn.model_selection import train_test_split  # The standard - train/test to prevent overfitting and choose hyperparameters\n",
    "from sklearn.metrics import accuracy_score # \n",
    "import numpy as np\n",
    "import numpy.random as r # We will randomly initialize our weights\n",
    "import matplotlib.pyplot as plt\n",
    "from datetime import datetime\n",
    "from sklearn.metrics import classification_report, confusion_matrix, ConfusionMatrixDisplay, r2_score"
   ]
  },
  {
   "cell_type": "markdown",
   "metadata": {},
   "source": [
    "## Looking at the data"
   ]
  },
  {
   "cell_type": "markdown",
   "metadata": {},
   "source": [
    "### One-vs-all encoding\n",
    "For example: if our target is an integer in the range [0,..,9], so we will have 10 output neuron's in our network.\n",
    "\n",
    "-  If  $y=0$, we want the output neurons to have the values $(1,0,0,0,0,0,0,0,0,0)$\n",
    "\n",
    "-  If  $y=1$ we want the output neurons to have the values $(0,1,0,0,0,0,0,0,0,0)$\n",
    "-  etc\n",
    "\n",
    "The code to covert the target vector."
   ]
  },
  {
   "cell_type": "code",
   "execution_count": 120,
   "metadata": {},
   "outputs": [],
   "source": [
    "def convert_y_to_vect(y, out_len):\n",
    "    y_vect = np.zeros((len(y), out_len))\n",
    "    for i in range(len(y)):\n",
    "        y_vect[i, int(y[i])] = 1\n",
    "    return y_vect"
   ]
  },
  {
   "cell_type": "code",
   "execution_count": 121,
   "metadata": {},
   "outputs": [],
   "source": [
    "def transform_and_split_data(data):\n",
    "    X = data[:, :-1]\n",
    "    y = data[:, -1]\n",
    "    print(f'Original y hist: {np.histogram(y, range(int(y.max()) + 1))}')\n",
    "    y = y - data[:, -1].min()\n",
    "    y[y<=2] = 0.\n",
    "    y[y==3] = 1.\n",
    "    y[y>3] = 2.\n",
    "    print(f'Current y hist: {np.histogram(y, [-0.5, 0.5, 1.5, 2.5])}')\n",
    "    print(f'y min: {y.min()}, y max: {y.max()}')\n",
    "    y_out_len = int(y.max()) + 1\n",
    "\n",
    "    print(f'The shape of the wines dataset: {data.shape}')\n",
    "    print(f'y[:10]:\\n{y[:10]}')\n",
    "    print(f'X[:10, :]:\\n{X[:10, :]}')\n",
    "\n",
    "    # Scale the dataset\n",
    "    X_scale = StandardScaler()\n",
    "    X = X_scale.fit_transform(X)\n",
    "    print(f'ScaledX[:10, :]:\\n{X[:10, :]}') # Looking the new features after scaling\n",
    "\n",
    "    #Split the data into training and test set.  60% training and %40 test\n",
    "    X_train, X_test, y_train, y_test = train_test_split(X, y, test_size=0.2)\n",
    "\n",
    "    # Converting the training and test targets to vectors\n",
    "    y_v_train = convert_y_to_vect(y_train, y_out_len)\n",
    "    y_v_test = convert_y_to_vect(y_test, y_out_len)\n",
    "    # Check to see that our code performs as we expect\n",
    "    # print(y_train[0:10])\n",
    "    # print(y_v_train[0:10])\n",
    "\n",
    "    return X_train, y_v_train, X_test, y_test, y_out_len"
   ]
  },
  {
   "cell_type": "markdown",
   "metadata": {},
   "source": [
    "### The activation function and its derivative\n",
    "\n",
    "We will use the sigmoid activation function:  $f(z)=\\frac{1}{1+e^{-z}}$\n",
    "\n",
    "The deriviative of the sigmoid function is: $f'(z) = f(z)(1-f(z))$ "
   ]
  },
  {
   "cell_type": "code",
   "execution_count": 122,
   "metadata": {},
   "outputs": [],
   "source": [
    "def f(z):\n",
    "    return 1 / (1 + np.exp(-z))\n",
    "\n",
    "\n",
    "def f_deriv(z):\n",
    "    return f(z) * (1 - f(z))"
   ]
  },
  {
   "cell_type": "markdown",
   "metadata": {},
   "source": [
    "### Creating and initialing W and b\n",
    "We want the weights in W to be different so that during back propagation the nodes on a level will have different gradients and thus have different update values.\n",
    "\n",
    "We want the  weights to be small values, since the sigmoid is almost \"flat\" for large inputs.\n",
    "\n",
    "Next is the code that assigns each weight a number uniformly drawn from $[0.0, 1.0)$.  The code assumes that the number of neurons in each level is in the python list *nn_structure*.\n",
    "\n",
    "In the code, the weights, $W^{(\\ell)}$ and $b^{(\\ell)}$ are held in a python dictionary"
   ]
  },
  {
   "cell_type": "code",
   "execution_count": 123,
   "metadata": {},
   "outputs": [],
   "source": [
    "def setup_and_init_weights(nn_structure):\n",
    "    W = {} #creating a dictionary i.e. a set of key: value pairs\n",
    "    b = {}\n",
    "    for l in range(1, len(nn_structure)):\n",
    "        W[l] = r.random_sample((nn_structure[l], nn_structure[l-1])) #Return “continuous uniform” random floats in the half-open interval [0.0, 1.0). \n",
    "        b[l] = r.random_sample((nn_structure[l],))\n",
    "    return W, b"
   ]
  },
  {
   "cell_type": "markdown",
   "metadata": {},
   "source": [
    "### Initializing $\\triangledown W$ and $\\triangledown b$\n",
    "Creating $\\triangledown W^{(\\ell)}$ and $\\triangledown b^{(\\ell)}$ to have the same size as $W^{(\\ell)}$ and $b^{(\\ell)}$, and setting $\\triangledown W^{(\\ell)}$, and  $\\triangledown b^{(\\ell)}$ to zero"
   ]
  },
  {
   "cell_type": "code",
   "execution_count": 124,
   "metadata": {},
   "outputs": [],
   "source": [
    "def init_tri_values(nn_structure):\n",
    "    tri_W = {}\n",
    "    tri_b = {}\n",
    "    for l in range(1, len(nn_structure)):\n",
    "        tri_W[l] = np.zeros((nn_structure[l], nn_structure[l-1]))\n",
    "        tri_b[l] = np.zeros((nn_structure[l],))\n",
    "    return tri_W, tri_b"
   ]
  },
  {
   "cell_type": "markdown",
   "metadata": {},
   "source": [
    "## Feed forward\n",
    "Perform a forward pass throught the network.  The function returns the values of $a$ and $z$"
   ]
  },
  {
   "cell_type": "code",
   "execution_count": 125,
   "metadata": {},
   "outputs": [],
   "source": [
    "def feed_forward(x, W, b, act_func):\n",
    "    a = {1: x} # create a dictionary for holding the a values for all levels\n",
    "    z = {} # create a dictionary for holding the z values for all the layers\n",
    "    for l in range(1, len(W) + 1): # for each layer\n",
    "        node_in = a[l]\n",
    "        z[l+1] = W[l].dot(node_in) + b[l]  # z^(l+1) = W^(l)*a^(l) + b^(l)\n",
    "        a[l+1] = act_func(z[l+1]) # a^(l+1) = f(z^(l+1))\n",
    "    return a, z"
   ]
  },
  {
   "cell_type": "markdown",
   "metadata": {},
   "source": [
    "## Compute $\\delta$\n",
    "The code below compute $\\delta^{(s_l)}$ in a function called \"calculate_out_layer_delta\",  and  computes $\\delta^{(\\ell)}$ for the hidden layers in the function called \"calculate_hidden_delta\".  \n",
    "\n",
    "If we wanted to have a different cost function, we would change the \"calculate_out_layer_delta\" function.\n"
   ]
  },
  {
   "cell_type": "code",
   "execution_count": 126,
   "metadata": {},
   "outputs": [],
   "source": [
    "def calculate_out_layer_delta(y, a_out, z_out, act_func_deriv):\n",
    "    # delta^(nl) = -(y_i - a_i^(nl)) * f'(z_i^(nl))\n",
    "    return -(y-a_out) * act_func_deriv(z_out)\n",
    "\n",
    "\n",
    "def calculate_hidden_delta(delta_plus_1, w_l, z_l, act_func_deriv):\n",
    "    # delta^(l) = (transpose(W^(l)) * delta^(l+1)) * f'(z^(l))\n",
    "    return np.dot(np.transpose(w_l), delta_plus_1) * act_func_deriv(z_l)"
   ]
  },
  {
   "cell_type": "markdown",
   "metadata": {},
   "source": [
    "## The Back Propagation Algorithm\n"
   ]
  },
  {
   "cell_type": "code",
   "execution_count": 127,
   "metadata": {},
   "outputs": [],
   "source": [
    "def train_nn(nn_structure, X, y, iter_num, act_func, act_func_deriv, l2_lambda=0, alpha=0.25):\n",
    "    W, b = setup_and_init_weights(nn_structure)\n",
    "    cnt = 0\n",
    "    N = len(y)\n",
    "    avg_cost_func = []\n",
    "    print('Starting gradient descent for {} iterations'.format(iter_num))\n",
    "    while cnt < iter_num:\n",
    "        if cnt%100 == 0:\n",
    "            print('Iteration {} of {}'.format(cnt, iter_num))\n",
    "        tri_W, tri_b = init_tri_values(nn_structure)\n",
    "        avg_cost = 0\n",
    "        for i in range(N):\n",
    "            delta = {}\n",
    "            # perform the feed forward pass and return the stored a and z values, to be used in the\n",
    "            # gradient descent step\n",
    "            a, z = feed_forward(X[i, :], W, b, act_func)\n",
    "            # loop from nl-1 to 1 backpropagating the errors\n",
    "            for l in range(len(nn_structure), 0, -1):\n",
    "                if l == len(nn_structure):\n",
    "                    delta[l] = calculate_out_layer_delta(y[i,:], a[l], z[l], act_func_deriv)\n",
    "                    avg_cost += np.linalg.norm((y[i,:]-a[l]))\n",
    "                else:\n",
    "                    if l > 1:\n",
    "                        delta[l] = calculate_hidden_delta(delta[l+1], W[l], z[l], act_func_deriv)\n",
    "                    # triW^(l) = triW^(l) + delta^(l+1) * transpose(a^(l))\n",
    "                    tri_W[l] += np.dot(delta[l+1][:,np.newaxis], np.transpose(a[l][:,np.newaxis]))# np.newaxis increase the number of dimensions\n",
    "                    # trib^(l) = trib^(l) + delta^(l+1)\n",
    "                    tri_b[l] += delta[l+1]\n",
    "        # perform the gradient descent step for the weights in each layer\n",
    "        for l in range(len(nn_structure) - 1, 0, -1):\n",
    "            W[l] += -alpha * ((1.0/N * tri_W[l]) + (l2_lambda * W[l]))\n",
    "            b[l] += -alpha * (1.0/N * tri_b[l])\n",
    "        # complete the average cost calculation\n",
    "        avg_cost = 1.0/N * avg_cost\n",
    "        avg_cost_func.append(avg_cost)\n",
    "        cnt += 1\n",
    "    return W, b, avg_cost_func\n",
    "\n",
    "\n",
    "def predict_y(W, b, X, n_layers, act_func):\n",
    "    N = X.shape[0]\n",
    "    y = np.zeros((N,))\n",
    "    for i in range(N):\n",
    "        a, z = feed_forward(X[i, :], W, b, act_func)\n",
    "        y[i] = np.argmax(a[n_layers])\n",
    "    return y"
   ]
  },
  {
   "cell_type": "markdown",
   "metadata": {},
   "source": [
    "### Plotting the learning curve\n"
   ]
  },
  {
   "cell_type": "code",
   "execution_count": 128,
   "metadata": {},
   "outputs": [],
   "source": [
    "# plot the avg_cost_func\n",
    "def plot_avg_cost(avg_cost_function, title):\n",
    "    plt.plot(avg_cost_function)\n",
    "    plt.title(title)\n",
    "    plt.ylabel('Average J')\n",
    "    plt.xlabel('Iteration number')\n",
    "    plt.grid()\n",
    "    plt.show()"
   ]
  },
  {
   "cell_type": "markdown",
   "source": [
    "### Confusion Matrix and Classification Analysis"
   ],
   "metadata": {
    "collapsed": false,
    "pycharm": {
     "name": "#%% md\n"
    }
   }
  },
  {
   "cell_type": "code",
   "execution_count": 129,
   "outputs": [],
   "source": [
    "def confusion_and_classification(y, y_hat):\n",
    "    cm = confusion_matrix(y, y_hat, normalize='true')\n",
    "\n",
    "    # Plot non-normalized confusion matrix\n",
    "    disp = ConfusionMatrixDisplay(confusion_matrix=cm)\n",
    "    disp.plot(cmap='winter')\n",
    "    plt.show()\n",
    "\n",
    "    cr = classification_report(y, y_hat, zero_division=0)\n",
    "    # accuracy\n",
    "    print(cr[: cr.find('accuracy') - 6])\n",
    "    print(f'\\t\\t R2 Score: {r2_score(y, y_hat)}\\n')"
   ],
   "metadata": {
    "collapsed": false,
    "pycharm": {
     "name": "#%%\n"
    }
   }
  },
  {
   "cell_type": "markdown",
   "source": [
    "### Function to analyze different methods"
   ],
   "metadata": {
    "collapsed": false
   }
  },
  {
   "cell_type": "code",
   "execution_count": 130,
   "metadata": {},
   "outputs": [],
   "source": [
    "def nn_performance(title, nn_structure, X_train, y_v_train, X_test, y_test, num_of_iter, act_func, act_func_deriv, l2_lambda=0):\n",
    "    # train the NN\n",
    "    print(f'{title}:')\n",
    "    W, b, avg_cost_func = train_nn(nn_structure, X_train, y_v_train, num_of_iter, act_func, act_func_deriv, l2_lambda)\n",
    "    # Print accuracy of method\n",
    "    y_pred = predict_y(W, b, X_test, 3, act_func)\n",
    "    accuracy = accuracy_score(y_test, y_pred) * 100\n",
    "    print('Prediction accuracy is {}%'.format(accuracy))\n",
    "    confusion_and_classification(y_test, y_pred)\n",
    "    # Display plot of average cost per iterations\n",
    "    plot_avg_cost(avg_cost_func, title)\n",
    "\n",
    "    folder = 'nn_logs/'\n",
    "    date = datetime.now().strftime(\"%m-%d-%Y_%H-%M-%S\")\n",
    "    np.save(folder+date+title+f'-{accuracy}'+'W', W)\n",
    "    np.save(folder+date+title+f'-{accuracy}'+'b', b)\n",
    "    np.save(folder+date+title+f'-{accuracy}'+'f', avg_cost_func)"
   ]
  },
  {
   "cell_type": "markdown",
   "source": [
    "### Other activation functions"
   ],
   "metadata": {
    "collapsed": false
   }
  },
  {
   "cell_type": "code",
   "execution_count": 131,
   "outputs": [],
   "source": [
    "def re_lu(z):\n",
    "    z_cp = z.copy()\n",
    "    z_cp[z_cp<0] = 0\n",
    "    return z_cp\n",
    "\n",
    "def re_lu_deriv(z):\n",
    "    z_cp = z.copy()\n",
    "    indices_under_zero = z_cp<0\n",
    "    indices_over_zero = z_cp>=0\n",
    "    z_cp[indices_under_zero] = 0\n",
    "    z_cp[indices_over_zero] = 1\n",
    "    return z_cp\n",
    "\n",
    "def tanh(z):\n",
    "    return (np.exp(z) - np.exp(-z)) / (np.exp(z) + np.exp(-z))\n",
    "\n",
    "def tanh_deriv(z):\n",
    "    return 1 - (tanh(z) ** 2)\n",
    "\n",
    "def soft_plus(z):\n",
    "    return np.log(1 + np.exp(z))\n",
    "\n",
    "def soft_plus_deriv(z):\n",
    "    return 1 / (1 + np.exp(-z))"
   ],
   "metadata": {
    "collapsed": false,
    "pycharm": {
     "name": "#%%\n"
    }
   }
  },
  {
   "cell_type": "markdown",
   "source": [
    "# Train Neural Network"
   ],
   "metadata": {
    "collapsed": false,
    "pycharm": {
     "name": "#%% md\n"
    }
   }
  },
  {
   "cell_type": "code",
   "execution_count": 132,
   "outputs": [],
   "source": [
    "def train_neural_network(X_train, y_v_train, X_test, y_test, y_out_len):\n",
    "    print(f'Number of samples: {X_train.shape[0] + X_test.shape[0]}')\n",
    "    nn_structure = [X_train.shape[1], 6, y_out_len] # [11, 6, 3]\n",
    "    num_of_iterations = 3000\n",
    "    l2_lambda = 0.0008\n",
    "\n",
    "    nn_performance(f'Sigmoid, L2={l2_lambda}, Structure={nn_structure}', nn_structure, X_train, y_v_train, X_test, y_test, num_of_iterations, f, f_deriv, l2_lambda)\n",
    "\n",
    "    nn_structure = [X_train.shape[1], 13, y_out_len] # [11, 13, 3]\n",
    "    num_of_iterations = 3000\n",
    "    l2_lambda = 0.0008\n",
    "\n",
    "    nn_performance(f'Sigmoid, L2={l2_lambda}, Structure={nn_structure}', nn_structure, X_train, y_v_train, X_test, y_test, num_of_iterations, f, f_deriv, l2_lambda)\n",
    "\n",
    "    nn_structure = [X_train.shape[1], 6, y_out_len] # [11, 6, 3]\n",
    "    num_of_iterations = 3000\n",
    "    l2_lambda = 0.0008\n",
    "\n",
    "    nn_performance(f'Tanh, L2={l2_lambda}, Structure={nn_structure}', nn_structure, X_train, y_v_train, X_test, y_test, num_of_iterations, tanh, tanh_deriv, l2_lambda)\n",
    "\n",
    "    nn_structure = [X_train.shape[1], 13, y_out_len] # [11, 13, 3]\n",
    "    num_of_iterations = 3000\n",
    "    l2_lambda = 0.0008\n",
    "\n",
    "    nn_performance(f'Tanh, L2={l2_lambda}, Structure={nn_structure}', nn_structure, X_train, y_v_train, X_test, y_test, num_of_iterations, tanh, tanh_deriv, l2_lambda)"
   ],
   "metadata": {
    "collapsed": false,
    "pycharm": {
     "name": "#%%\n"
    }
   }
  },
  {
   "cell_type": "code",
   "execution_count": 133,
   "outputs": [],
   "source": [
    "df_red = pd.read_csv('winequality-red.csv', sep=';')\n",
    "data_red = df_red.to_numpy()\n",
    "\n",
    "df_white = pd.read_csv('winequality-white.csv', sep=';')\n",
    "data_white = df_white.to_numpy()\n",
    "\n",
    "data_all = np.vstack((data_red, data_white))\n",
    "\n",
    "rs = r.RandomState(42)\n",
    "r.shuffle(data_red)\n",
    "r.shuffle(data_white)\n",
    "r.shuffle(data_all)"
   ],
   "metadata": {
    "collapsed": false,
    "pycharm": {
     "name": "#%%\n"
    }
   }
  },
  {
   "cell_type": "markdown",
   "source": [
    "# Train Red Wines Data"
   ],
   "metadata": {
    "collapsed": false,
    "pycharm": {
     "name": "#%% md\n"
    }
   }
  },
  {
   "cell_type": "code",
   "execution_count": 134,
   "outputs": [
    {
     "name": "stdout",
     "output_type": "stream",
     "text": [
      "Original y hist: (array([  0,   0,   0,  10,  53, 681, 638, 217]), array([0, 1, 2, 3, 4, 5, 6, 7, 8]))\n",
      "Current y hist: (array([744, 638, 217]), array([-0.5,  0.5,  1.5,  2.5]))\n",
      "y min: 0.0, y max: 2.0\n",
      "The shape of the wines dataset: (1599, 12)\n",
      "y[:10]:\n",
      "[0. 0. 1. 2. 1. 0. 1. 1. 0. 2.]\n",
      "X[:10, :]:\n",
      "[[6.4000e+00 4.0000e-01 2.3000e-01 1.6000e+00 6.6000e-02 5.0000e+00\n",
      "  1.2000e+01 9.9580e-01 3.3400e+00 5.6000e-01 9.2000e+00]\n",
      " [7.2000e+00 7.3000e-01 2.0000e-02 2.5000e+00 7.6000e-02 1.6000e+01\n",
      "  4.2000e+01 9.9720e-01 3.4400e+00 5.2000e-01 9.3000e+00]\n",
      " [8.2000e+00 3.2000e-01 4.2000e-01 2.3000e+00 9.8000e-02 3.0000e+00\n",
      "  9.0000e+00 9.9506e-01 3.2700e+00 5.5000e-01 1.2300e+01]\n",
      " [8.7000e+00 5.2000e-01 9.0000e-02 2.5000e+00 9.1000e-02 2.0000e+01\n",
      "  4.9000e+01 9.9760e-01 3.3400e+00 8.6000e-01 1.0600e+01]\n",
      " [1.1400e+01 6.2500e-01 6.6000e-01 6.2000e+00 8.8000e-02 6.0000e+00\n",
      "  2.4000e+01 9.9880e-01 3.1100e+00 9.9000e-01 1.3300e+01]\n",
      " [6.9000e+00 6.3000e-01 3.3000e-01 6.7000e+00 2.3500e-01 6.6000e+01\n",
      "  1.1500e+02 9.9787e-01 3.2200e+00 5.6000e-01 9.5000e+00]\n",
      " [9.3000e+00 4.9000e-01 3.6000e-01 1.7000e+00 8.1000e-02 3.0000e+00\n",
      "  1.4000e+01 9.9702e-01 3.2700e+00 7.8000e-01 1.0900e+01]\n",
      " [8.3000e+00 5.8000e-01 1.3000e-01 2.9000e+00 9.6000e-02 1.4000e+01\n",
      "  6.3000e+01 9.9840e-01 3.1700e+00 6.2000e-01 9.1000e+00]\n",
      " [7.5000e+00 1.1150e+00 1.0000e-01 3.1000e+00 8.6000e-02 5.0000e+00\n",
      "  1.2000e+01 9.9580e-01 3.5400e+00 6.0000e-01 1.1200e+01]\n",
      " [7.9000e+00 2.0000e-01 3.5000e-01 1.7000e+00 5.4000e-02 7.0000e+00\n",
      "  1.5000e+01 9.9458e-01 3.3200e+00 8.0000e-01 1.1900e+01]]\n",
      "ScaledX[:10, :]:\n",
      "[[-1.10289006 -0.7140663  -0.21041165 -0.66606179 -0.45624391 -1.03997712\n",
      "  -1.04812997 -0.50175293  0.18716564 -0.57920652 -1.1479806 ]\n",
      " [-0.6432657   1.12947097 -1.28877135 -0.02753165 -0.24370669  0.01196132\n",
      "  -0.13586095  0.24026625  0.83509345 -0.81525883 -1.05411336]\n",
      " [-0.06873526 -1.16098443  0.76524713 -0.16942723  0.2238752  -1.23123866\n",
      "  -1.13935687 -0.89396306 -0.26638383 -0.6382196   1.76190411]\n",
      " [ 0.21852997 -0.04368911 -0.92931812 -0.02753165  0.07509914  0.39448439\n",
      "   0.07700182  0.45227172  0.18716564  1.19118578  0.16616088]\n",
      " [ 1.76976217  0.54289093  1.99765822  2.5975367   0.01133798 -0.94434636\n",
      "  -0.68322236  1.08828816 -1.30306833  1.95835578  2.7005766 ]\n",
      " [-0.81562483  0.57082331  0.30309297  2.95227566  3.1356351   4.79349971\n",
      "   2.08399365  0.59537542 -0.59034773 -0.57920652 -0.86637886]\n",
      " [ 0.56324823 -0.21128341  0.45714436 -0.59511399 -0.13743808 -1.23123866\n",
      "  -0.98731203  0.14486378 -0.26638383  0.71908117  0.44776263]\n",
      " [-0.01128221  0.29149948 -0.72391627  0.25625952  0.18136775 -0.17930021\n",
      "   0.50272736  0.87628268 -0.91431164 -0.22512806 -1.24184785]\n",
      " [-0.47090657  3.28026445 -0.87796766  0.39815511 -0.03116947 -1.03997712\n",
      "  -1.04812997 -0.50175293  1.48302126 -0.34315421  0.72936437]\n",
      " [-0.24109439 -1.83136161  0.4057939  -0.59511399 -0.71128857 -0.84871559\n",
      "  -0.95690307 -1.14836963  0.05758008  0.83710732  1.38643512]]\n",
      "None\n"
     ]
    }
   ],
   "source": [
    "X_train, y_v_train, X_test, y_test, y_out_len = transform_and_split_data(data_red)"
   ],
   "metadata": {
    "collapsed": false,
    "pycharm": {
     "name": "#%%\n"
    }
   }
  },
  {
   "cell_type": "code",
   "execution_count": 135,
   "outputs": [
    {
     "name": "stdout",
     "output_type": "stream",
     "text": [
      "Number of samples: 1599\n",
      "Sigmoid, L2=0.0008, Structure=[11, 6, 3]:\n",
      "Starting gradient descent for 3000 iterations\n",
      "Iteration 0 of 3000\n",
      "Iteration 100 of 3000\n",
      "Iteration 200 of 3000\n",
      "Iteration 300 of 3000\n",
      "Iteration 400 of 3000\n",
      "Iteration 500 of 3000\n",
      "Iteration 600 of 3000\n",
      "Iteration 700 of 3000\n",
      "Iteration 800 of 3000\n",
      "Iteration 900 of 3000\n",
      "Iteration 1000 of 3000\n",
      "Iteration 1100 of 3000\n",
      "Iteration 1200 of 3000\n",
      "Iteration 1300 of 3000\n",
      "Iteration 1400 of 3000\n",
      "Iteration 1500 of 3000\n",
      "Iteration 1600 of 3000\n",
      "Iteration 1700 of 3000\n",
      "Iteration 1800 of 3000\n",
      "Iteration 1900 of 3000\n",
      "Iteration 2000 of 3000\n",
      "Iteration 2100 of 3000\n",
      "Iteration 2200 of 3000\n",
      "Iteration 2300 of 3000\n",
      "Iteration 2400 of 3000\n",
      "Iteration 2500 of 3000\n",
      "Iteration 2600 of 3000\n",
      "Iteration 2700 of 3000\n",
      "Iteration 2800 of 3000\n",
      "Iteration 2900 of 3000\n",
      "Prediction accuracy is 58.4375%\n"
     ]
    },
    {
     "data": {
      "text/plain": "<Figure size 432x288 with 2 Axes>",
      "image/png": "[encoded data removed]"
     },
     "metadata": {
      "needs_background": "light"
     },
     "output_type": "display_data"
    },
    {
     "name": "stdout",
     "output_type": "stream",
     "text": [
      "              precision    recall  f1-score   support\n",
      "\n",
      "         0.0       0.70      0.75      0.73       151\n",
      "         1.0       0.46      0.61      0.53       119\n",
      "         2.0       0.00      0.00      0.00        50\n",
      "\t\t R2 Score: 0.1603688168665348\n",
      "\n"
     ]
    },
    {
     "data": {
      "text/plain": "<Figure size 432x288 with 1 Axes>",
      "image/png": "[encoded data removed]"
     },
     "metadata": {
      "needs_background": "light"
     },
     "output_type": "display_data"
    },
    {
     "name": "stdout",
     "output_type": "stream",
     "text": [
      "Sigmoid, L2=0.0008, Structure=[11, 13, 3]:\n",
      "Starting gradient descent for 3000 iterations\n",
      "Iteration 0 of 3000\n",
      "Iteration 100 of 3000\n",
      "Iteration 200 of 3000\n",
      "Iteration 300 of 3000\n",
      "Iteration 400 of 3000\n",
      "Iteration 500 of 3000\n",
      "Iteration 600 of 3000\n",
      "Iteration 700 of 3000\n",
      "Iteration 800 of 3000\n",
      "Iteration 900 of 3000\n",
      "Iteration 1000 of 3000\n",
      "Iteration 1100 of 3000\n",
      "Iteration 1200 of 3000\n",
      "Iteration 1300 of 3000\n",
      "Iteration 1400 of 3000\n",
      "Iteration 1500 of 3000\n",
      "Iteration 1600 of 3000\n",
      "Iteration 1700 of 3000\n",
      "Iteration 1800 of 3000\n",
      "Iteration 1900 of 3000\n",
      "Iteration 2000 of 3000\n",
      "Iteration 2100 of 3000\n",
      "Iteration 2200 of 3000\n",
      "Iteration 2300 of 3000\n",
      "Iteration 2400 of 3000\n",
      "Iteration 2500 of 3000\n",
      "Iteration 2600 of 3000\n",
      "Iteration 2700 of 3000\n",
      "Iteration 2800 of 3000\n",
      "Iteration 2900 of 3000\n",
      "Prediction accuracy is 61.875%\n"
     ]
    },
    {
     "data": {
      "text/plain": "<Figure size 432x288 with 2 Axes>",
      "image/png": "[encoded data removed]"
     },
     "metadata": {
      "needs_background": "light"
     },
     "output_type": "display_data"
    },
    {
     "name": "stdout",
     "output_type": "stream",
     "text": [
      "              precision    recall  f1-score   support\n",
      "\n",
      "         0.0       0.72      0.78      0.75       151\n",
      "         1.0       0.50      0.62      0.55       119\n",
      "         2.0       0.86      0.12      0.21        50\n",
      "\t\t R2 Score: 0.22541066908109897\n",
      "\n"
     ]
    },
    {
     "data": {
      "text/plain": "<Figure size 432x288 with 1 Axes>",
      "image/png": "[encoded data removed]"
     },
     "metadata": {
      "needs_background": "light"
     },
     "output_type": "display_data"
    },
    {
     "name": "stdout",
     "output_type": "stream",
     "text": [
      "Tanh, L2=0.0008, Structure=[11, 6, 3]:\n",
      "Starting gradient descent for 3000 iterations\n",
      "Iteration 0 of 3000\n",
      "Iteration 100 of 3000\n",
      "Iteration 200 of 3000\n",
      "Iteration 300 of 3000\n",
      "Iteration 400 of 3000\n",
      "Iteration 500 of 3000\n",
      "Iteration 600 of 3000\n",
      "Iteration 700 of 3000\n",
      "Iteration 800 of 3000\n",
      "Iteration 900 of 3000\n",
      "Iteration 1000 of 3000\n",
      "Iteration 1100 of 3000\n",
      "Iteration 1200 of 3000\n",
      "Iteration 1300 of 3000\n",
      "Iteration 1400 of 3000\n",
      "Iteration 1500 of 3000\n",
      "Iteration 1600 of 3000\n",
      "Iteration 1700 of 3000\n",
      "Iteration 1800 of 3000\n",
      "Iteration 1900 of 3000\n",
      "Iteration 2000 of 3000\n",
      "Iteration 2100 of 3000\n",
      "Iteration 2200 of 3000\n",
      "Iteration 2300 of 3000\n",
      "Iteration 2400 of 3000\n",
      "Iteration 2500 of 3000\n",
      "Iteration 2600 of 3000\n",
      "Iteration 2700 of 3000\n",
      "Iteration 2800 of 3000\n",
      "Iteration 2900 of 3000\n",
      "Prediction accuracy is 60.3125%\n"
     ]
    },
    {
     "data": {
      "text/plain": "<Figure size 432x288 with 2 Axes>",
      "image/png": "[encoded data removed]"
     },
     "metadata": {
      "needs_background": "light"
     },
     "output_type": "display_data"
    },
    {
     "name": "stdout",
     "output_type": "stream",
     "text": [
      "              precision    recall  f1-score   support\n",
      "\n",
      "         0.0       0.72      0.77      0.74       151\n",
      "         1.0       0.49      0.50      0.50       119\n",
      "         2.0       0.49      0.34      0.40        50\n",
      "\t\t R2 Score: 0.1603688168665348\n",
      "\n"
     ]
    },
    {
     "data": {
      "text/plain": "<Figure size 432x288 with 1 Axes>",
      "image/png": "[encoded data removed]"
     },
     "metadata": {
      "needs_background": "light"
     },
     "output_type": "display_data"
    },
    {
     "name": "stdout",
     "output_type": "stream",
     "text": [
      "Tanh, L2=0.0008, Structure=[11, 13, 3]:\n",
      "Starting gradient descent for 3000 iterations\n",
      "Iteration 0 of 3000\n",
      "Iteration 100 of 3000\n",
      "Iteration 200 of 3000\n",
      "Iteration 300 of 3000\n",
      "Iteration 400 of 3000\n",
      "Iteration 500 of 3000\n",
      "Iteration 600 of 3000\n",
      "Iteration 700 of 3000\n",
      "Iteration 800 of 3000\n",
      "Iteration 900 of 3000\n",
      "Iteration 1000 of 3000\n",
      "Iteration 1100 of 3000\n",
      "Iteration 1200 of 3000\n",
      "Iteration 1300 of 3000\n",
      "Iteration 1400 of 3000\n",
      "Iteration 1500 of 3000\n",
      "Iteration 1600 of 3000\n",
      "Iteration 1700 of 3000\n",
      "Iteration 1800 of 3000\n",
      "Iteration 1900 of 3000\n",
      "Iteration 2000 of 3000\n",
      "Iteration 2100 of 3000\n",
      "Iteration 2200 of 3000\n",
      "Iteration 2300 of 3000\n",
      "Iteration 2400 of 3000\n",
      "Iteration 2500 of 3000\n",
      "Iteration 2600 of 3000\n",
      "Iteration 2700 of 3000\n",
      "Iteration 2800 of 3000\n",
      "Iteration 2900 of 3000\n",
      "Prediction accuracy is 61.875%\n"
     ]
    },
    {
     "data": {
      "text/plain": "<Figure size 432x288 with 2 Axes>",
      "image/png": "[encoded data removed]"
     },
     "metadata": {
      "needs_background": "light"
     },
     "output_type": "display_data"
    },
    {
     "name": "stdout",
     "output_type": "stream",
     "text": [
      "              precision    recall  f1-score   support\n",
      "\n",
      "         0.0       0.71      0.73      0.72       151\n",
      "         1.0       0.51      0.58      0.54       119\n",
      "         2.0       0.63      0.38      0.48        50\n",
      "\t\t R2 Score: 0.1899332951458822\n",
      "\n"
     ]
    },
    {
     "data": {
      "text/plain": "<Figure size 432x288 with 1 Axes>",
      "image/png": "[encoded data removed]"
     },
     "metadata": {
      "needs_background": "light"
     },
     "output_type": "display_data"
    }
   ],
   "source": [
    "train_neural_network(X_train, y_v_train, X_test, y_test, y_out_len)"
   ],
   "metadata": {
    "collapsed": false,
    "pycharm": {
     "name": "#%%\n"
    }
   }
  },
  {
   "cell_type": "markdown",
   "source": [
    "# Train White Wines Data"
   ],
   "metadata": {
    "collapsed": false,
    "pycharm": {
     "name": "#%% md\n"
    }
   }
  },
  {
   "cell_type": "code",
   "execution_count": 136,
   "outputs": [
    {
     "name": "stdout",
     "output_type": "stream",
     "text": [
      "Original y hist: (array([   0,    0,    0,   20,  163, 1457, 2198,  880,  180]), array([0, 1, 2, 3, 4, 5, 6, 7, 8, 9]))\n",
      "Current y hist: (array([1640, 2198, 1060]), array([-0.5,  0.5,  1.5,  2.5]))\n",
      "y min: 0.0, y max: 2.0\n",
      "The shape of the wines dataset: (4898, 12)\n",
      "y[:10]:\n",
      "[1. 1. 2. 1. 0. 1. 1. 1. 1. 2.]\n",
      "X[:10, :]:\n",
      "[[7.0000e+00 3.2000e-01 2.9000e-01 4.9000e+00 3.6000e-02 4.1000e+01\n",
      "  1.5000e+02 9.9168e-01 3.3800e+00 4.3000e-01 1.2200e+01]\n",
      " [9.2000e+00 2.8000e-01 4.1000e-01 1.0000e+00 4.2000e-02 1.4000e+01\n",
      "  5.9000e+01 9.9220e-01 2.9600e+00 2.5000e-01 1.0500e+01]\n",
      " [7.2000e+00 2.3000e-01 3.9000e-01 1.4200e+01 5.8000e-02 4.9000e+01\n",
      "  1.9200e+02 9.9790e-01 2.9800e+00 4.8000e-01 9.0000e+00]\n",
      " [5.7000e+00 2.6000e-01 2.7000e-01 4.1000e+00 2.0100e-01 7.3500e+01\n",
      "  1.8950e+02 9.9420e-01 3.2700e+00 3.8000e-01 9.4000e+00]\n",
      " [6.0000e+00 2.6000e-01 1.8000e-01 7.0000e+00 5.5000e-02 5.0000e+01\n",
      "  1.9400e+02 9.9591e-01 3.2100e+00 4.3000e-01 9.0000e+00]\n",
      " [6.3000e+00 2.6000e-01 4.2000e-01 7.1000e+00 4.5000e-02 6.2000e+01\n",
      "  2.0900e+02 9.9544e-01 3.2000e+00 5.3000e-01 9.5000e+00]\n",
      " [6.8000e+00 1.8000e-01 3.2000e-01 7.2000e+00 4.7000e-02 1.7000e+01\n",
      "  1.0900e+02 9.9498e-01 3.4200e+00 4.4000e-01 1.0400e+01]\n",
      " [6.4000e+00 3.2000e-01 2.7000e-01 4.9000e+00 3.4000e-02 1.8000e+01\n",
      "  1.2200e+02 9.9160e-01 3.3600e+00 7.1000e-01 1.2500e+01]\n",
      " [6.2000e+00 3.2000e-01 3.2000e-01 2.2000e+00 3.6000e-02 1.5000e+01\n",
      "  7.0000e+01 9.8990e-01 3.1600e+00 4.8000e-01 1.2700e+01]\n",
      " [5.8000e+00 2.6000e-01 1.8000e-01 1.2000e+00 3.1000e-02 4.0000e+01\n",
      "  1.1400e+02 9.9080e-01 3.4200e+00 4.0000e-01 1.1000e+01]]\n",
      "ScaledX[:10, :]:\n",
      "[[ 0.17209696  0.41433932 -0.36519658 -0.29407534 -0.44733468  0.33471219\n",
      "   0.27390732 -0.78491782  1.26988195 -0.52444731  1.36996334]\n",
      " [ 2.77940524  0.01745194  0.6264779  -1.06307253 -0.17268156 -1.25301866\n",
      "  -1.86758528 -0.61103976 -1.51184794 -2.10181478 -0.01159456]\n",
      " [ 0.40912499 -0.47865728  0.46119882  1.53968719  0.55972676  0.80515096\n",
      "   1.26228852  1.29493128 -1.37938461 -0.08628968 -1.23061624]\n",
      " [-1.3685852  -0.18099175 -0.53047566 -0.45181836  7.1056261   2.2458697\n",
      "   1.20345631  0.05772201  0.54133365 -0.96260494 -0.90554379]\n",
      " [-1.01304317 -0.18099175 -1.27423152  0.12000007  0.4224002   0.86395581\n",
      "   1.30935429  0.62951332  0.14394366 -0.52444731 -1.23061624]\n",
      " [-0.65750113 -0.18099175  0.70911744  0.13971794 -0.035355    1.56961397\n",
      "   1.66234758  0.4723543   0.077712    0.35186795 -0.82427568]\n",
      " [-0.06493106 -0.9747665  -0.11727796  0.15943582  0.05619604 -1.07660412\n",
      "  -0.690941    0.31853909  1.53480861 -0.43681578 -0.09286267]\n",
      " [-0.53898711  0.41433932 -0.53047566 -0.29407534 -0.53888572 -1.01779928\n",
      "  -0.38501348 -0.81166829  1.13741862  1.92923542  1.61376767]\n",
      " [-0.77601514  0.41433932 -0.11727796 -0.82645801 -0.44733468 -1.19421382\n",
      "  -1.60872354 -1.3801158  -0.18721466 -0.08628968  1.7763039 ]\n",
      " [-1.25007119 -0.18099175 -1.27423152 -1.02363678 -0.67621228  0.27590734\n",
      "  -0.57327657 -1.079173    1.53480861 -0.78734189  0.394746  ]]\n",
      "None\n"
     ]
    }
   ],
   "source": [
    "X_train, y_v_train, X_test, y_test, y_out_len = transform_and_split_data(data_white)"
   ],
   "metadata": {
    "collapsed": false,
    "pycharm": {
     "name": "#%%\n"
    }
   }
  },
  {
   "cell_type": "code",
   "execution_count": null,
   "outputs": [
    {
     "name": "stdout",
     "output_type": "stream",
     "text": [
      "Number of samples: 4898\n",
      "Sigmoid, L2=0.0008, Structure=[11, 6, 3]:\n",
      "Starting gradient descent for 3000 iterations\n",
      "Iteration 0 of 3000\n",
      "Iteration 100 of 3000\n",
      "Iteration 200 of 3000\n",
      "Iteration 300 of 3000\n",
      "Iteration 400 of 3000\n",
      "Iteration 500 of 3000\n",
      "Iteration 600 of 3000\n",
      "Iteration 700 of 3000\n",
      "Iteration 800 of 3000\n",
      "Iteration 900 of 3000\n",
      "Iteration 1000 of 3000\n",
      "Iteration 1100 of 3000\n",
      "Iteration 1200 of 3000\n",
      "Iteration 1300 of 3000\n",
      "Iteration 1400 of 3000\n",
      "Iteration 1500 of 3000\n",
      "Iteration 1600 of 3000\n",
      "Iteration 1700 of 3000\n",
      "Iteration 1800 of 3000\n",
      "Iteration 1900 of 3000\n",
      "Iteration 2000 of 3000\n",
      "Iteration 2100 of 3000\n",
      "Iteration 2200 of 3000\n",
      "Iteration 2300 of 3000\n",
      "Iteration 2400 of 3000\n",
      "Iteration 2500 of 3000\n",
      "Iteration 2600 of 3000\n",
      "Iteration 2700 of 3000\n",
      "Iteration 2800 of 3000\n",
      "Iteration 2900 of 3000\n",
      "Prediction accuracy is 56.734693877551024%\n"
     ]
    },
    {
     "data": {
      "text/plain": "<Figure size 432x288 with 2 Axes>",
      "image/png": "[encoded data removed]"
     },
     "metadata": {
      "needs_background": "light"
     },
     "output_type": "display_data"
    },
    {
     "name": "stdout",
     "output_type": "stream",
     "text": [
      "              precision    recall  f1-score   support\n",
      "\n",
      "         0.0       0.65      0.58      0.61       333\n",
      "         1.0       0.52      0.78      0.62       429\n",
      "         2.0       0.81      0.13      0.23       218\n",
      "\t\t R2 Score: 0.11628745811620211\n",
      "\n"
     ]
    },
    {
     "data": {
      "text/plain": "<Figure size 432x288 with 1 Axes>",
      "image/png": "[encoded data removed]"
     },
     "metadata": {
      "needs_background": "light"
     },
     "output_type": "display_data"
    },
    {
     "name": "stdout",
     "output_type": "stream",
     "text": [
      "Sigmoid, L2=0.0008, Structure=[11, 13, 3]:\n",
      "Starting gradient descent for 3000 iterations\n",
      "Iteration 0 of 3000\n",
      "Iteration 100 of 3000\n",
      "Iteration 200 of 3000\n",
      "Iteration 300 of 3000\n",
      "Iteration 400 of 3000\n",
      "Iteration 500 of 3000\n",
      "Iteration 600 of 3000\n",
      "Iteration 700 of 3000\n",
      "Iteration 800 of 3000\n",
      "Iteration 900 of 3000\n",
      "Iteration 1000 of 3000\n",
      "Iteration 1100 of 3000\n",
      "Iteration 1200 of 3000\n",
      "Iteration 1300 of 3000\n",
      "Iteration 1400 of 3000\n"
     ]
    }
   ],
   "source": [
    "train_neural_network(X_train, y_v_train, X_test, y_test, y_out_len)"
   ],
   "metadata": {
    "collapsed": false,
    "pycharm": {
     "name": "#%%\n",
     "is_executing": true
    }
   }
  },
  {
   "cell_type": "markdown",
   "source": [
    "# Train All Wines Data"
   ],
   "metadata": {
    "collapsed": false,
    "pycharm": {
     "name": "#%% md\n"
    }
   }
  },
  {
   "cell_type": "code",
   "execution_count": null,
   "outputs": [],
   "source": [
    "X_train, y_v_train, X_test, y_test, y_out_len = transform_and_split_data(data_all)"
   ],
   "metadata": {
    "collapsed": false,
    "pycharm": {
     "name": "#%%\n",
     "is_executing": true
    }
   }
  },
  {
   "cell_type": "code",
   "execution_count": null,
   "outputs": [],
   "source": [
    "train_neural_network(X_train, y_v_train, X_test, y_test, y_out_len)"
   ],
   "metadata": {
    "collapsed": false,
    "pycharm": {
     "name": "#%%\n",
     "is_executing": true
    }
   }
  },
  {
   "cell_type": "markdown",
   "source": [
    "### Run performance analysis"
   ],
   "metadata": {
    "collapsed": false
   }
  },
  {
   "cell_type": "code",
   "execution_count": null,
   "outputs": [],
   "source": [
    "# nn_performance('Sigmoid Activation Function', nn_structure, X_train, y_v_train, X_test, y_test, num_of_iterations, f, f_deriv)\n",
    "# Section a\n",
    "# nn_performance('Sigmoid, L2 Regularization (lambda=0.01)', nn_structure, X_train, y_v_train, X_test, y_test, num_of_iterations, f, f_deriv, 0.01)\n",
    "# Section b\n",
    "# nn_performance('ReLU Activation Function',[11, 6, 3], X_train, y_v_train, X_test, y_test, 500, re_lu, re_lu_deriv)\n",
    "# Section c\n",
    "# nn_performance('Tanh Activation Function', [11, 6, 3], X_train, y_v_train, X_test, y_test, 3000, tanh, tanh_deriv)\n",
    "# Section d\n",
    "# nn_performance('Soft-plus Activation Function', [11, 6, 3], X_train, y_v_train, X_test, y_test, 500, soft_plus, soft_plus_deriv)\n",
    "# Section e\n",
    "# nn_performance('Sigmoid, 4000 Iterations (Not 3000)', nn_structure, X_train, y_v_train, X_test, y_test, num_of_iterations + 1000, f, f_deriv)\n",
    "# Section f\n",
    "# diff_nn_structure = [X.shape[1], 16, y_out_len]\n",
    "# nn_performance('Sigmoid, NN Structure = [11, 45 (Not 30), 10]', nn_structure, X_train, y_v_train, X_test, y_test, num_of_iterations, f, f_deriv)\n",
    "\n",
    "# for i in list(range(6, 7)) + list(range(11, 14)):\n",
    "#     nn_structure[1] = i\n",
    "#     print(f'Using NN Structure: {nn_structure}')\n",
    "#     nn_performance('Sigmoid, L2 Regularization (lambda=0.001)', nn_structure, X_train, y_v_train, X_test, y_test, num_of_iterations, f, f_deriv, 0.001)\n",
    "\n",
    "# Checking different l2 lambdas\n",
    "# for l2_lambda in [0.0008]:\n",
    "#     nn_performance(f'Sigmoid, L2={l2_lambda}, Structure={nn_structure}', nn_structure, X_train, y_v_train, X_test, y_test, num_of_iterations, f, f_deriv, l2_lambda)\n",
    "\n",
    "# Checking different NN structures\n",
    "# for nn in [nn_structure, [X.shape[1], 13, 11, y_out_len], [X.shape[1], 13, 6, y_out_len], [X.shape[1], 13, 3, y_out_len]]: # [11, 13, 3]]\n",
    "#     nn_performance(f'Sigmoid, L2={l2_lambda}, Structure={nn}', nn, X_train, y_v_train, X_test, y_test, num_of_iterations, f, f_deriv, l2_lambda)"
   ],
   "metadata": {
    "collapsed": false,
    "pycharm": {
     "name": "#%%\n",
     "is_executing": true
    }
   }
  },
  {
   "cell_type": "code",
   "execution_count": null,
   "outputs": [],
   "source": [],
   "metadata": {
    "collapsed": false,
    "pycharm": {
     "name": "#%%\n",
     "is_executing": true
    }
   }
  }
 ],
 "metadata": {
  "kernelspec": {
   "display_name": "Python 3",
   "language": "python",
   "name": "python3"
  },
  "language_info": {
   "codemirror_mode": {
    "name": "ipython",
    "version": 3
   },
   "file_extension": ".py",
   "mimetype": "text/x-python",
   "name": "python",
   "nbconvert_exporter": "python",
   "pygments_lexer": "ipython3",
   "version": "3.7.7"
  }
 },
 "nbformat": 4,
 "nbformat_minor": 2
}