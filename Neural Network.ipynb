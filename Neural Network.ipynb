{
 "cells": [
  {
   "cell_type": "markdown",
   "metadata": {},
   "source": [
    "# Neural Network"
   ]
  },
  {
   "cell_type": "markdown",
   "source": [
    "## The first thing we will do is import all the libraries"
   ],
   "metadata": {
    "collapsed": false
   }
  },
  {
   "cell_type": "code",
   "execution_count": 471,
   "metadata": {},
   "outputs": [],
   "source": [
    "import pandas as pd\n",
    "from sklearn.datasets import load_digits # The MNIST data set is in scikit learn data set\n",
    "from sklearn.preprocessing import StandardScaler  # It is important in neural networks to scale the date\n",
    "from sklearn.model_selection import train_test_split  # The standard - train/test to prevent overfitting and choose hyperparameters\n",
    "from sklearn.metrics import accuracy_score # \n",
    "import numpy as np\n",
    "import numpy.random as r # We will randomly initialize our weights\n",
    "import matplotlib.pyplot as plt\n",
    "from datetime import datetime"
   ]
  },
  {
   "cell_type": "markdown",
   "metadata": {},
   "source": [
    "## Looking at the data"
   ]
  },
  {
   "cell_type": "markdown",
   "metadata": {},
   "source": [
    "### One-vs-all encoding\n",
    "For example: if our target is an integer in the range [0,..,9], so we will have 10 output neuron's in our network.\n",
    "\n",
    "-  If  $y=0$, we want the output neurons to have the values $(1,0,0,0,0,0,0,0,0,0)$\n",
    "\n",
    "-  If  $y=1$ we want the output neurons to have the values $(0,1,0,0,0,0,0,0,0,0)$\n",
    "-  etc\n",
    "\n",
    "The code to covert the target vector."
   ]
  },
  {
   "cell_type": "code",
   "execution_count": 472,
   "metadata": {},
   "outputs": [],
   "source": [
    "def convert_y_to_vect(y, out_len):\n",
    "    y_vect = np.zeros((len(y), out_len))\n",
    "    for i in range(len(y)):\n",
    "        y_vect[i, int(y[i])] = 1\n",
    "    return y_vect"
   ]
  },
  {
   "cell_type": "code",
   "execution_count": 473,
   "metadata": {},
   "outputs": [],
   "source": [
    "def transform_and_split_data(data):\n",
    "    X = data[:, :-1]\n",
    "    y = data[:, -1] - data[:, -1].min()\n",
    "    print(f'Original y hist: {np.histogram(y, range(int(y.max()) + 1))}')\n",
    "    y[y<=2] = 0.\n",
    "    y[y==3] = 1.\n",
    "    y[y>3] = 2.\n",
    "    print(f'Current y hist: {np.histogram(y, [-0.5, 0.5, 1.5, 2.5])}')\n",
    "    print(f'y min: {y.min()}, y max: {y.max()}')\n",
    "    y_out_len = int(y.max()) + 1\n",
    "\n",
    "    print(\"The shape of the wines dataset:\")\n",
    "    print(data.shape)\n",
    "    print(y[:10])\n",
    "    print(X[:10, :])\n",
    "\n",
    "    # Scale the dataset\n",
    "    X_scale = StandardScaler()\n",
    "    X = X_scale.fit_transform(X)\n",
    "    print(X) # Looking the new features after scaling\n",
    "\n",
    "    #Split the data into training and test set.  60% training and %40 test\n",
    "    X_train, X_test, y_train, y_test = train_test_split(X, y, test_size=0.4)\n",
    "\n",
    "    # Converting the training and test targets to vectors\n",
    "    y_v_train = convert_y_to_vect(y_train, y_out_len)\n",
    "    y_v_test = convert_y_to_vect(y_test, y_out_len)\n",
    "    # Check to see that our code performs as we expect\n",
    "    print(y_train[0:10])\n",
    "    print(y_v_train[0:10])\n",
    "\n",
    "    return X_train, y_v_train, X_test, y_test, y_out_len"
   ]
  },
  {
   "cell_type": "markdown",
   "metadata": {},
   "source": [
    "### The activation function and its derivative\n",
    "\n",
    "We will use the sigmoid activation function:  $f(z)=\\frac{1}{1+e^{-z}}$\n",
    "\n",
    "The deriviative of the sigmoid function is: $f'(z) = f(z)(1-f(z))$ "
   ]
  },
  {
   "cell_type": "code",
   "execution_count": 474,
   "metadata": {},
   "outputs": [],
   "source": [
    "def f(z):\n",
    "    return 1 / (1 + np.exp(-z))\n",
    "\n",
    "\n",
    "def f_deriv(z):\n",
    "    return f(z) * (1 - f(z))"
   ]
  },
  {
   "cell_type": "markdown",
   "metadata": {},
   "source": [
    "### Creating and initialing W and b\n",
    "We want the weights in W to be different so that during back propagation the nodes on a level will have different gradients and thus have different update values.\n",
    "\n",
    "We want the  weights to be small values, since the sigmoid is almost \"flat\" for large inputs.\n",
    "\n",
    "Next is the code that assigns each weight a number uniformly drawn from $[0.0, 1.0)$.  The code assumes that the number of neurons in each level is in the python list *nn_structure*.\n",
    "\n",
    "In the code, the weights, $W^{(\\ell)}$ and $b^{(\\ell)}$ are held in a python dictionary"
   ]
  },
  {
   "cell_type": "code",
   "execution_count": 475,
   "metadata": {},
   "outputs": [],
   "source": [
    "def setup_and_init_weights(nn_structure):\n",
    "    W = {} #creating a dictionary i.e. a set of key: value pairs\n",
    "    b = {}\n",
    "    for l in range(1, len(nn_structure)):\n",
    "        W[l] = r.random_sample((nn_structure[l], nn_structure[l-1])) #Return “continuous uniform” random floats in the half-open interval [0.0, 1.0). \n",
    "        b[l] = r.random_sample((nn_structure[l],))\n",
    "    return W, b"
   ]
  },
  {
   "cell_type": "markdown",
   "metadata": {},
   "source": [
    "### Initializing $\\triangledown W$ and $\\triangledown b$\n",
    "Creating $\\triangledown W^{(\\ell)}$ and $\\triangledown b^{(\\ell)}$ to have the same size as $W^{(\\ell)}$ and $b^{(\\ell)}$, and setting $\\triangledown W^{(\\ell)}$, and  $\\triangledown b^{(\\ell)}$ to zero"
   ]
  },
  {
   "cell_type": "code",
   "execution_count": 476,
   "metadata": {},
   "outputs": [],
   "source": [
    "def init_tri_values(nn_structure):\n",
    "    tri_W = {}\n",
    "    tri_b = {}\n",
    "    for l in range(1, len(nn_structure)):\n",
    "        tri_W[l] = np.zeros((nn_structure[l], nn_structure[l-1]))\n",
    "        tri_b[l] = np.zeros((nn_structure[l],))\n",
    "    return tri_W, tri_b"
   ]
  },
  {
   "cell_type": "markdown",
   "metadata": {},
   "source": [
    "## Feed forward\n",
    "Perform a forward pass throught the network.  The function returns the values of $a$ and $z$"
   ]
  },
  {
   "cell_type": "code",
   "execution_count": 477,
   "metadata": {},
   "outputs": [],
   "source": [
    "def feed_forward(x, W, b, act_func):\n",
    "    a = {1: x} # create a dictionary for holding the a values for all levels\n",
    "    z = {} # create a dictionary for holding the z values for all the layers\n",
    "    for l in range(1, len(W) + 1): # for each layer\n",
    "        node_in = a[l]\n",
    "        z[l+1] = W[l].dot(node_in) + b[l]  # z^(l+1) = W^(l)*a^(l) + b^(l)\n",
    "        a[l+1] = act_func(z[l+1]) # a^(l+1) = f(z^(l+1))\n",
    "    return a, z"
   ]
  },
  {
   "cell_type": "markdown",
   "metadata": {},
   "source": [
    "## Compute $\\delta$\n",
    "The code below compute $\\delta^{(s_l)}$ in a function called \"calculate_out_layer_delta\",  and  computes $\\delta^{(\\ell)}$ for the hidden layers in the function called \"calculate_hidden_delta\".  \n",
    "\n",
    "If we wanted to have a different cost function, we would change the \"calculate_out_layer_delta\" function.\n"
   ]
  },
  {
   "cell_type": "code",
   "execution_count": 478,
   "metadata": {},
   "outputs": [],
   "source": [
    "def calculate_out_layer_delta(y, a_out, z_out, act_func_deriv):\n",
    "    # delta^(nl) = -(y_i - a_i^(nl)) * f'(z_i^(nl))\n",
    "    return -(y-a_out) * act_func_deriv(z_out)\n",
    "\n",
    "\n",
    "def calculate_hidden_delta(delta_plus_1, w_l, z_l, act_func_deriv):\n",
    "    # delta^(l) = (transpose(W^(l)) * delta^(l+1)) * f'(z^(l))\n",
    "    return np.dot(np.transpose(w_l), delta_plus_1) * act_func_deriv(z_l)"
   ]
  },
  {
   "cell_type": "markdown",
   "metadata": {},
   "source": [
    "## The Back Propagation Algorithm\n"
   ]
  },
  {
   "cell_type": "code",
   "execution_count": 479,
   "metadata": {},
   "outputs": [],
   "source": [
    "def train_nn(nn_structure, X, y, iter_num, act_func, act_func_deriv, l2_lambda=0, alpha=0.25):\n",
    "    W, b = setup_and_init_weights(nn_structure)\n",
    "    cnt = 0\n",
    "    N = len(y)\n",
    "    avg_cost_func = []\n",
    "    print('Starting gradient descent for {} iterations'.format(iter_num))\n",
    "    while cnt < iter_num:\n",
    "        if cnt%100 == 0:\n",
    "            print('Iteration {} of {}'.format(cnt, iter_num))\n",
    "        tri_W, tri_b = init_tri_values(nn_structure)\n",
    "        avg_cost = 0\n",
    "        for i in range(N):\n",
    "            delta = {}\n",
    "            # perform the feed forward pass and return the stored a and z values, to be used in the\n",
    "            # gradient descent step\n",
    "            a, z = feed_forward(X[i, :], W, b, act_func)\n",
    "            # loop from nl-1 to 1 backpropagating the errors\n",
    "            for l in range(len(nn_structure), 0, -1):\n",
    "                if l == len(nn_structure):\n",
    "                    delta[l] = calculate_out_layer_delta(y[i,:], a[l], z[l], act_func_deriv)\n",
    "                    avg_cost += np.linalg.norm((y[i,:]-a[l]))\n",
    "                else:\n",
    "                    if l > 1:\n",
    "                        delta[l] = calculate_hidden_delta(delta[l+1], W[l], z[l], act_func_deriv)\n",
    "                    # triW^(l) = triW^(l) + delta^(l+1) * transpose(a^(l))\n",
    "                    tri_W[l] += np.dot(delta[l+1][:,np.newaxis], np.transpose(a[l][:,np.newaxis]))# np.newaxis increase the number of dimensions\n",
    "                    # trib^(l) = trib^(l) + delta^(l+1)\n",
    "                    tri_b[l] += delta[l+1]\n",
    "        # perform the gradient descent step for the weights in each layer\n",
    "        for l in range(len(nn_structure) - 1, 0, -1):\n",
    "            W[l] += -alpha * ((1.0/N * tri_W[l]) + (l2_lambda * W[l]))\n",
    "            b[l] += -alpha * (1.0/N * tri_b[l])\n",
    "        # complete the average cost calculation\n",
    "        avg_cost = 1.0/N * avg_cost\n",
    "        avg_cost_func.append(avg_cost)\n",
    "        cnt += 1\n",
    "    return W, b, avg_cost_func\n",
    "\n",
    "\n",
    "def predict_y(W, b, X, n_layers, act_func):\n",
    "    N = X.shape[0]\n",
    "    y = np.zeros((N,))\n",
    "    for i in range(N):\n",
    "        a, z = feed_forward(X[i, :], W, b, act_func)\n",
    "        y[i] = np.argmax(a[n_layers])\n",
    "    return y"
   ]
  },
  {
   "cell_type": "markdown",
   "metadata": {},
   "source": [
    "### Plotting the learning curve\n"
   ]
  },
  {
   "cell_type": "code",
   "execution_count": 480,
   "metadata": {},
   "outputs": [],
   "source": [
    "# plot the avg_cost_func\n",
    "def plot_avg_cost(avg_cost_function, title):\n",
    "    plt.plot(avg_cost_function)\n",
    "    plt.title(title)\n",
    "    plt.ylabel('Average J')\n",
    "    plt.xlabel('Iteration number')\n",
    "    plt.grid()\n",
    "    plt.show()"
   ]
  },
  {
   "cell_type": "markdown",
   "source": [
    "### Function to analyze different methods"
   ],
   "metadata": {
    "collapsed": false
   }
  },
  {
   "cell_type": "code",
   "execution_count": 481,
   "metadata": {},
   "outputs": [],
   "source": [
    "def nn_performance(title, nn_structure, X_train, y_v_train, X_test, y_test, num_of_iter, act_func, act_func_deriv, l2_lambda=0):\n",
    "    # train the NN\n",
    "    print(f'{title}:')\n",
    "    W, b, avg_cost_func = train_nn(nn_structure, X_train, y_v_train, num_of_iter, act_func, act_func_deriv, l2_lambda)\n",
    "    # Print accuracy of method\n",
    "    y_pred = predict_y(W, b, X_test, 3, act_func)\n",
    "    accuracy = accuracy_score(y_test, y_pred) * 100\n",
    "    print('Prediction accuracy is {}%'.format(accuracy))\n",
    "    # Display plot of average cost per iterations\n",
    "    plot_avg_cost(avg_cost_func, title)\n",
    "\n",
    "    folder = 'nn_logs/'\n",
    "    date = datetime.now().strftime(\"%m-%d-%Y_%H-%M-%S\")\n",
    "    np.save(folder+date+title+f'-{accuracy}'+'W', W)\n",
    "    np.save(folder+date+title+f'-{accuracy}'+'b', b)\n",
    "    np.save(folder+date+title+f'-{accuracy}'+'f', avg_cost_func)"
   ]
  },
  {
   "cell_type": "markdown",
   "source": [
    "### Other activation functions"
   ],
   "metadata": {
    "collapsed": false
   }
  },
  {
   "cell_type": "code",
   "execution_count": 482,
   "outputs": [],
   "source": [
    "def re_lu(z):\n",
    "    z_cp = z.copy()\n",
    "    z_cp[z_cp<0] = 0\n",
    "    return z_cp\n",
    "\n",
    "def re_lu_deriv(z):\n",
    "    z_cp = z.copy()\n",
    "    indices_under_zero = z_cp<0\n",
    "    indices_over_zero = z_cp>=0\n",
    "    z_cp[indices_under_zero] = 0\n",
    "    z_cp[indices_over_zero] = 1\n",
    "    return z_cp\n",
    "\n",
    "def tanh(z):\n",
    "    return (np.exp(z) - np.exp(-z)) / (np.exp(z) + np.exp(-z))\n",
    "\n",
    "def tanh_deriv(z):\n",
    "    return 1 - (tanh(z) ** 2)\n",
    "\n",
    "def soft_plus(z):\n",
    "    return np.log(1 + np.exp(z))\n",
    "\n",
    "def soft_plus_deriv(z):\n",
    "    return 1 / (1 + np.exp(-z))"
   ],
   "metadata": {
    "collapsed": false,
    "pycharm": {
     "name": "#%%\n"
    }
   }
  },
  {
   "cell_type": "markdown",
   "source": [
    "# Train Neural Network"
   ],
   "metadata": {
    "collapsed": false,
    "pycharm": {
     "name": "#%% md\n"
    }
   }
  },
  {
   "cell_type": "code",
   "execution_count": 483,
   "outputs": [],
   "source": [
    "def train_neural_network(X_train, y_v_train, X_test, y_test, y_out_len):\n",
    "    print(f'Number of samples: {X_train.shape[0] + X_test.shape[0]}')\n",
    "    nn_structure = [X_train.shape[1], 6, y_out_len] # [11, 6, 3]\n",
    "    num_of_iterations = 3000\n",
    "    l2_lambda = 0.0008\n",
    "\n",
    "    nn_performance(f'Sigmoid, L2={l2_lambda}, Structure={nn_structure}', nn_structure, X_train, y_v_train, X_test, y_test, num_of_iterations, f, f_deriv, l2_lambda)\n",
    "\n",
    "    nn_structure = [X_train.shape[1], 13, y_out_len] # [11, 13, 3]\n",
    "    num_of_iterations = 3000\n",
    "    l2_lambda = 0.0008\n",
    "\n",
    "    nn_performance(f'Sigmoid, L2={l2_lambda}, Structure={nn_structure}', nn_structure, X_train, y_v_train, X_test, y_test, num_of_iterations, f, f_deriv, l2_lambda)\n"
   ],
   "metadata": {
    "collapsed": false,
    "pycharm": {
     "name": "#%%\n"
    }
   }
  },
  {
   "cell_type": "code",
   "execution_count": 484,
   "outputs": [],
   "source": [
    "df_red = pd.read_csv('winequality-red.csv', sep=';')\n",
    "data_red = df_red.to_numpy()\n",
    "\n",
    "df_white = pd.read_csv('winequality-white.csv', sep=';')\n",
    "data_white = df_white.to_numpy()\n",
    "\n",
    "data_all = np.vstack((data_red, data_white))\n",
    "\n",
    "rs = r.RandomState(42)\n",
    "r.shuffle(data_red)\n",
    "r.shuffle(data_white)\n",
    "r.shuffle(data_all)"
   ],
   "metadata": {
    "collapsed": false,
    "pycharm": {
     "name": "#%%\n"
    }
   }
  },
  {
   "cell_type": "markdown",
   "source": [
    "# Train Red Wines Data"
   ],
   "metadata": {
    "collapsed": false,
    "pycharm": {
     "name": "#%% md\n"
    }
   }
  },
  {
   "cell_type": "code",
   "execution_count": 485,
   "outputs": [
    {
     "name": "stdout",
     "output_type": "stream",
     "text": [
      "Original y hist: (array([ 10,  53, 681, 638, 217]), array([0, 1, 2, 3, 4, 5]))\n",
      "Current y hist: (array([744, 638, 217]), array([-0.5,  0.5,  1.5,  2.5]))\n",
      "y min: 0.0, y max: 2.0\n",
      "The shape of the wines dataset:\n",
      "(1599, 12)\n",
      "[1. 1. 2. 1. 0. 0. 1. 0. 2. 1.]\n",
      "[[6.9000e+00 6.8500e-01 0.0000e+00 2.5000e+00 1.0500e-01 2.2000e+01\n",
      "  3.7000e+01 9.9660e-01 3.4600e+00 5.7000e-01 1.0600e+01]\n",
      " [7.8000e+00 5.4000e-01 2.6000e-01 2.0000e+00 8.8000e-02 2.3000e+01\n",
      "  4.8000e+01 9.9810e-01 3.4100e+00 7.4000e-01 9.2000e+00]\n",
      " [9.4000e+00 2.7000e-01 5.3000e-01 2.4000e+00 7.4000e-02 6.0000e+00\n",
      "  1.8000e+01 9.9620e-01 3.2000e+00 1.1300e+00 1.2000e+01]\n",
      " [6.8000e+00 7.8500e-01 0.0000e+00 2.4000e+00 1.0400e-01 1.4000e+01\n",
      "  3.0000e+01 9.9660e-01 3.5200e+00 5.5000e-01 1.0700e+01]\n",
      " [9.2000e+00 5.3000e-01 2.4000e-01 2.6000e+00 7.8000e-02 2.8000e+01\n",
      "  1.3900e+02 9.9788e-01 3.2100e+00 5.7000e-01 9.5000e+00]\n",
      " [1.3000e+01 3.2000e-01 6.5000e-01 2.6000e+00 9.3000e-02 1.5000e+01\n",
      "  4.7000e+01 9.9960e-01 3.0500e+00 6.1000e-01 1.0600e+01]\n",
      " [6.5000e+00 6.1000e-01 0.0000e+00 2.2000e+00 9.5000e-02 4.8000e+01\n",
      "  5.9000e+01 9.9541e-01 3.6100e+00 7.0000e-01 1.1500e+01]\n",
      " [7.7000e+00 6.6000e-01 4.0000e-02 1.6000e+00 3.9000e-02 4.0000e+00\n",
      "  9.0000e+00 9.9620e-01 3.4000e+00 4.7000e-01 9.4000e+00]\n",
      " [8.2000e+00 2.6000e-01 3.4000e-01 2.5000e+00 7.3000e-02 1.6000e+01\n",
      "  4.7000e+01 9.9594e-01 3.4000e+00 7.8000e-01 1.1300e+01]\n",
      " [5.0000e+00 4.0000e-01 5.0000e-01 4.3000e+00 4.6000e-02 2.9000e+01\n",
      "  8.0000e+01 9.9020e-01 3.4900e+00 6.6000e-01 1.3600e+01]]\n",
      "[[-0.81562483  0.87807952 -1.39147228 ...  0.96467901 -0.52019345\n",
      "   0.16616088]\n",
      " [-0.29854743  0.06804042 -0.05636026 ...  0.64071511  0.48302886\n",
      "  -1.1479806 ]\n",
      " [ 0.62070128 -1.44030825  1.33010221 ... -0.7199333   2.78453886\n",
      "   1.48030237]\n",
      " ...\n",
      " [ 0.33343606 -0.15541864 -0.31311257 ...  0.12237286  1.01414655\n",
      "   0.63549713]\n",
      " [ 1.19523172 -0.04368911  0.91929852 ... -0.59034773  0.60105502\n",
      "   0.91709887]\n",
      " [-0.98798397  1.82778054 -1.28877135 ...  1.48302126 -0.34315421\n",
      "   0.54162988]]\n",
      "[1. 0. 2. 0. 1. 0. 1. 1. 1. 1.]\n",
      "[[0. 1. 0.]\n",
      " [1. 0. 0.]\n",
      " [0. 0. 1.]\n",
      " [1. 0. 0.]\n",
      " [0. 1. 0.]\n",
      " [1. 0. 0.]\n",
      " [0. 1. 0.]\n",
      " [0. 1. 0.]\n",
      " [0. 1. 0.]\n",
      " [0. 1. 0.]]\n"
     ]
    }
   ],
   "source": [
    "X_train, y_v_train, X_test, y_test, y_out_len = transform_and_split_data(data_red)"
   ],
   "metadata": {
    "collapsed": false,
    "pycharm": {
     "name": "#%%\n"
    }
   }
  },
  {
   "cell_type": "code",
   "execution_count": 486,
   "outputs": [],
   "source": [
    "# train_neural_network(X_train, y_v_train, X_test, y_test, y_out_len)"
   ],
   "metadata": {
    "collapsed": false,
    "pycharm": {
     "name": "#%%\n"
    }
   }
  },
  {
   "cell_type": "markdown",
   "source": [
    "# Train White Wines Data"
   ],
   "metadata": {
    "collapsed": false,
    "pycharm": {
     "name": "#%% md\n"
    }
   }
  },
  {
   "cell_type": "code",
   "execution_count": 487,
   "outputs": [
    {
     "name": "stdout",
     "output_type": "stream",
     "text": [
      "Original y hist: (array([  20,  163, 1457, 2198,  880,  180]), array([0, 1, 2, 3, 4, 5, 6]))\n",
      "Current y hist: (array([1640, 2198, 1060]), array([-0.5,  0.5,  1.5,  2.5]))\n",
      "y min: 0.0, y max: 2.0\n",
      "The shape of the wines dataset:\n",
      "(4898, 12)\n",
      "[2. 0. 2. 0. 1. 1. 1. 0. 1. 0.]\n",
      "[[6.7000e+00 2.4000e-01 3.0000e-01 3.8500e+00 4.2000e-02 1.0500e+02\n",
      "  1.7900e+02 9.9189e-01 3.0400e+00 5.9000e-01 1.1300e+01]\n",
      " [8.6000e+00 3.1000e-01 3.0000e-01 9.0000e-01 4.5000e-02 1.6000e+01\n",
      "  1.0900e+02 9.9249e-01 2.9500e+00 3.9000e-01 1.0100e+01]\n",
      " [5.0000e+00 3.0000e-01 3.3000e-01 3.7000e+00 3.0000e-02 5.4000e+01\n",
      "  1.7300e+02 9.8870e-01 3.3600e+00 3.0000e-01 1.3000e+01]\n",
      " [5.2000e+00 2.5000e-01 2.3000e-01 1.4000e+00 4.7000e-02 2.0000e+01\n",
      "  7.7000e+01 9.9001e-01 3.3200e+00 6.2000e-01 1.1400e+01]\n",
      " [7.5000e+00 2.9000e-01 6.7000e-01 8.1000e+00 3.7000e-02 5.3000e+01\n",
      "  1.6600e+02 9.9660e-01 2.9000e+00 4.1000e-01 8.9000e+00]\n",
      " [6.6000e+00 5.6000e-01 1.6000e-01 3.1000e+00 4.5000e-02 2.8000e+01\n",
      "  9.2000e+01 9.9400e-01 3.1200e+00 3.5000e-01 9.1000e+00]\n",
      " [7.2000e+00 2.3000e-01 3.8000e-01 1.4300e+01 5.8000e-02 5.5000e+01\n",
      "  1.9400e+02 9.9790e-01 3.0900e+00 4.4000e-01 9.0000e+00]\n",
      " [7.4000e+00 2.5000e-01 4.9000e-01 1.1000e+00 4.2000e-02 3.5000e+01\n",
      "  1.5600e+02 9.9170e-01 3.1300e+00 5.5000e-01 1.1300e+01]\n",
      " [5.6000e+00 1.5000e-01 2.6000e-01 5.5500e+00 5.1000e-02 5.1000e+01\n",
      "  1.3900e+02 9.9336e-01 3.4700e+00 5.0000e-01 1.1000e+01]\n",
      " [7.6000e+00 2.9000e-01 2.6000e-01 6.5000e+00 4.2000e-02 3.2000e+01\n",
      "  1.6000e+02 9.9440e-01 3.1400e+00 4.7000e-01 1.0700e+01]]\n",
      "[[-0.18344508 -0.37943543 -0.28255704 ... -0.98199462  0.87765711\n",
      "   0.63855033]\n",
      " [ 2.06832116  0.31511748 -0.28255704 ... -1.5780796  -0.87497341\n",
      "  -0.33666701]\n",
      " [-2.19818329  0.21589563 -0.03463842 ...  1.13741862 -1.66365715\n",
      "   2.02010823]\n",
      " ...\n",
      " [-0.18344508 -0.9747665  -0.28255704 ...  0.67379698  0.26423642\n",
      "  -0.41793512]\n",
      " [-1.01304317 -0.18099175  1.37023377 ... -0.71706797  1.05292016\n",
      "  -0.58047134]\n",
      " [-1.48709922 -0.18099175 -0.53047566 ...  1.40234528 -1.31313104\n",
      "   0.15094166]]\n",
      "[1. 2. 1. 1. 0. 0. 0. 1. 2. 2.]\n",
      "[[0. 1. 0.]\n",
      " [0. 0. 1.]\n",
      " [0. 1. 0.]\n",
      " [0. 1. 0.]\n",
      " [1. 0. 0.]\n",
      " [1. 0. 0.]\n",
      " [1. 0. 0.]\n",
      " [0. 1. 0.]\n",
      " [0. 0. 1.]\n",
      " [0. 0. 1.]]\n"
     ]
    }
   ],
   "source": [
    "X_train, y_v_train, X_test, y_test, y_out_len = transform_and_split_data(data_white)"
   ],
   "metadata": {
    "collapsed": false,
    "pycharm": {
     "name": "#%%\n"
    }
   }
  },
  {
   "cell_type": "code",
   "execution_count": 488,
   "outputs": [],
   "source": [
    "# train_neural_network(X_train, y_v_train, X_test, y_test, y_out_len)"
   ],
   "metadata": {
    "collapsed": false,
    "pycharm": {
     "name": "#%%\n"
    }
   }
  },
  {
   "cell_type": "markdown",
   "source": [
    "# Train All Wines Data"
   ],
   "metadata": {
    "collapsed": false,
    "pycharm": {
     "name": "#%% md\n"
    }
   }
  },
  {
   "cell_type": "code",
   "execution_count": 489,
   "outputs": [
    {
     "name": "stdout",
     "output_type": "stream",
     "text": [
      "Original y hist: (array([  30,  216, 2138, 2836, 1079,  198]), array([0, 1, 2, 3, 4, 5, 6]))\n",
      "Current y hist: (array([2384, 2836, 1277]), array([-0.5,  0.5,  1.5,  2.5]))\n",
      "y min: 0.0, y max: 2.0\n",
      "The shape of the wines dataset:\n",
      "(6497, 12)\n",
      "[1. 1. 0. 1. 0. 1. 2. 1. 2. 1.]\n",
      "[[8.1000e+00 2.9000e-01 4.9000e-01 7.1000e+00 4.2000e-02 2.2000e+01\n",
      "  1.2400e+02 9.9440e-01 3.1400e+00 4.1000e-01 1.0800e+01]\n",
      " [6.1000e+00 3.4000e-01 4.6000e-01 4.7000e+00 2.9000e-02 2.1000e+01\n",
      "  9.4000e+01 9.9100e-01 3.2900e+00 6.2000e-01 1.2300e+01]\n",
      " [8.9000e+00 6.2000e-01 1.9000e-01 3.9000e+00 1.7000e-01 5.1000e+01\n",
      "  1.4800e+02 9.9860e-01 3.1700e+00 9.3000e-01 9.2000e+00]\n",
      " [1.1200e+01 6.6000e-01 2.4000e-01 2.5000e+00 8.5000e-02 1.6000e+01\n",
      "  5.3000e+01 9.9930e-01 3.0600e+00 7.2000e-01 1.1000e+01]\n",
      " [6.1500e+00 2.1000e-01 3.7000e-01 3.2000e+00 2.1000e-02 2.0000e+01\n",
      "  8.0000e+01 9.9076e-01 3.3900e+00 4.7000e-01 1.2000e+01]\n",
      " [8.3000e+00 3.0000e-01 3.6000e-01 1.0000e+01 4.2000e-02 3.3000e+01\n",
      "  1.6900e+02 9.9820e-01 3.2300e+00 5.1000e-01 9.3000e+00]\n",
      " [9.2000e+00 1.8000e-01 4.9000e-01 1.5000e+00 4.1000e-02 3.9000e+01\n",
      "  1.3000e+02 9.9450e-01 3.0400e+00 4.9000e-01 9.8000e+00]\n",
      " [8.0000e+00 4.2000e-01 1.7000e-01 2.0000e+00 7.3000e-02 6.0000e+00\n",
      "  1.8000e+01 9.9720e-01 3.2900e+00 6.1000e-01 9.2000e+00]\n",
      " [4.8000e+00 1.3000e-01 3.2000e-01 1.2000e+00 4.2000e-02 4.0000e+01\n",
      "  9.8000e+01 9.8980e-01 3.4200e+00 6.4000e-01 1.1800e+01]\n",
      " [7.7000e+00 2.2000e-01 4.2000e-01 1.9000e+00 5.2000e-02 1.0000e+01\n",
      "  8.7000e+01 9.9220e-01 3.3000e+00 4.9000e-01 1.1800e+01]]\n",
      "[[ 6.82457567e-01 -3.01693915e-01  1.17934553e+00 ... -4.88265779e-01\n",
      "  -8.15005540e-01  2.58421945e-01]\n",
      " [-8.60354723e-01  2.02887007e-03  9.72885649e-01 ...  4.44716094e-01\n",
      "   5.96337696e-01  1.51615706e+00]\n",
      " [ 1.29958248e+00  1.70287646e+00 -8.85253276e-01 ... -3.01669405e-01\n",
      "   2.67974914e+00 -1.08316218e+00]\n",
      " ...\n",
      " [-1.40033903e+00  9.73941781e-01 -1.29817304e+00 ...  1.62649313e+00\n",
      "   2.34371504e+00  2.52234516e+00]\n",
      " [-3.20370422e-01 -9.69884041e-01 -1.28233714e-01 ... -1.35904886e+00\n",
      "  -7.57305117e-02 -1.25086020e+00]\n",
      " [-3.20370422e-01 -6.05416699e-01 -1.97053674e-01 ...  7.15233449e-02\n",
      "   7.30751337e-01 -7.69740861e-02]]\n",
      "[0. 0. 1. 1. 1. 0. 1. 0. 1. 1.]\n",
      "[[1. 0. 0.]\n",
      " [1. 0. 0.]\n",
      " [0. 1. 0.]\n",
      " [0. 1. 0.]\n",
      " [0. 1. 0.]\n",
      " [1. 0. 0.]\n",
      " [0. 1. 0.]\n",
      " [1. 0. 0.]\n",
      " [0. 1. 0.]\n",
      " [0. 1. 0.]]\n"
     ]
    }
   ],
   "source": [
    "X_train, y_v_train, X_test, y_test, y_out_len = transform_and_split_data(data_all)"
   ],
   "metadata": {
    "collapsed": false,
    "pycharm": {
     "name": "#%%\n"
    }
   }
  },
  {
   "cell_type": "code",
   "execution_count": 490,
   "outputs": [
    {
     "name": "stdout",
     "output_type": "stream",
     "text": [
      "Number of samples: 6497\n",
      "Sigmoid, L2=0.0008, Structure=[11, 6, 3]:\n",
      "Starting gradient descent for 3000 iterations\n",
      "Iteration 0 of 3000\n"
     ]
    },
    {
     "ename": "KeyboardInterrupt",
     "evalue": "",
     "output_type": "error",
     "traceback": [
      "\u001B[0;31m---------------------------------------------------------------------------\u001B[0m",
      "\u001B[0;31mKeyboardInterrupt\u001B[0m                         Traceback (most recent call last)",
      "\u001B[0;32m/var/folders/jt/1k_qk63579j6wypsw2nkkwnw0000gp/T/ipykernel_55990/398083706.py\u001B[0m in \u001B[0;36m<module>\u001B[0;34m\u001B[0m\n\u001B[0;32m----> 1\u001B[0;31m \u001B[0mtrain_neural_network\u001B[0m\u001B[0;34m(\u001B[0m\u001B[0mX_train\u001B[0m\u001B[0;34m,\u001B[0m \u001B[0my_v_train\u001B[0m\u001B[0;34m,\u001B[0m \u001B[0mX_test\u001B[0m\u001B[0;34m,\u001B[0m \u001B[0my_test\u001B[0m\u001B[0;34m,\u001B[0m \u001B[0my_out_len\u001B[0m\u001B[0;34m)\u001B[0m\u001B[0;34m\u001B[0m\u001B[0;34m\u001B[0m\u001B[0m\n\u001B[0m",
      "\u001B[0;32m/var/folders/jt/1k_qk63579j6wypsw2nkkwnw0000gp/T/ipykernel_55990/2324113572.py\u001B[0m in \u001B[0;36mtrain_neural_network\u001B[0;34m(X_train, y_v_train, X_test, y_test, y_out_len)\u001B[0m\n\u001B[1;32m      5\u001B[0m     \u001B[0ml2_lambda\u001B[0m \u001B[0;34m=\u001B[0m \u001B[0;36m0.0008\u001B[0m\u001B[0;34m\u001B[0m\u001B[0;34m\u001B[0m\u001B[0m\n\u001B[1;32m      6\u001B[0m \u001B[0;34m\u001B[0m\u001B[0m\n\u001B[0;32m----> 7\u001B[0;31m     \u001B[0mnn_performance\u001B[0m\u001B[0;34m(\u001B[0m\u001B[0;34mf'Sigmoid, L2={l2_lambda}, Structure={nn_structure}'\u001B[0m\u001B[0;34m,\u001B[0m \u001B[0mnn_structure\u001B[0m\u001B[0;34m,\u001B[0m \u001B[0mX_train\u001B[0m\u001B[0;34m,\u001B[0m \u001B[0my_v_train\u001B[0m\u001B[0;34m,\u001B[0m \u001B[0mX_test\u001B[0m\u001B[0;34m,\u001B[0m \u001B[0my_test\u001B[0m\u001B[0;34m,\u001B[0m \u001B[0mnum_of_iterations\u001B[0m\u001B[0;34m,\u001B[0m \u001B[0mf\u001B[0m\u001B[0;34m,\u001B[0m \u001B[0mf_deriv\u001B[0m\u001B[0;34m,\u001B[0m \u001B[0ml2_lambda\u001B[0m\u001B[0;34m)\u001B[0m\u001B[0;34m\u001B[0m\u001B[0;34m\u001B[0m\u001B[0m\n\u001B[0m\u001B[1;32m      8\u001B[0m \u001B[0;34m\u001B[0m\u001B[0m\n\u001B[1;32m      9\u001B[0m     \u001B[0mnn_structure\u001B[0m \u001B[0;34m=\u001B[0m \u001B[0;34m[\u001B[0m\u001B[0mX_train\u001B[0m\u001B[0;34m.\u001B[0m\u001B[0mshape\u001B[0m\u001B[0;34m[\u001B[0m\u001B[0;36m1\u001B[0m\u001B[0;34m]\u001B[0m\u001B[0;34m,\u001B[0m \u001B[0;36m13\u001B[0m\u001B[0;34m,\u001B[0m \u001B[0my_out_len\u001B[0m\u001B[0;34m]\u001B[0m \u001B[0;31m# [11, 13, 3]\u001B[0m\u001B[0;34m\u001B[0m\u001B[0;34m\u001B[0m\u001B[0m\n",
      "\u001B[0;32m/var/folders/jt/1k_qk63579j6wypsw2nkkwnw0000gp/T/ipykernel_55990/400849960.py\u001B[0m in \u001B[0;36mnn_performance\u001B[0;34m(title, nn_structure, X_train, y_v_train, X_test, y_test, num_of_iter, act_func, act_func_deriv, l2_lambda)\u001B[0m\n\u001B[1;32m      2\u001B[0m     \u001B[0;31m# train the NN\u001B[0m\u001B[0;34m\u001B[0m\u001B[0;34m\u001B[0m\u001B[0;34m\u001B[0m\u001B[0m\n\u001B[1;32m      3\u001B[0m     \u001B[0mprint\u001B[0m\u001B[0;34m(\u001B[0m\u001B[0;34mf'{title}:'\u001B[0m\u001B[0;34m)\u001B[0m\u001B[0;34m\u001B[0m\u001B[0;34m\u001B[0m\u001B[0m\n\u001B[0;32m----> 4\u001B[0;31m     \u001B[0mW\u001B[0m\u001B[0;34m,\u001B[0m \u001B[0mb\u001B[0m\u001B[0;34m,\u001B[0m \u001B[0mavg_cost_func\u001B[0m \u001B[0;34m=\u001B[0m \u001B[0mtrain_nn\u001B[0m\u001B[0;34m(\u001B[0m\u001B[0mnn_structure\u001B[0m\u001B[0;34m,\u001B[0m \u001B[0mX_train\u001B[0m\u001B[0;34m,\u001B[0m \u001B[0my_v_train\u001B[0m\u001B[0;34m,\u001B[0m \u001B[0mnum_of_iter\u001B[0m\u001B[0;34m,\u001B[0m \u001B[0mact_func\u001B[0m\u001B[0;34m,\u001B[0m \u001B[0mact_func_deriv\u001B[0m\u001B[0;34m,\u001B[0m \u001B[0ml2_lambda\u001B[0m\u001B[0;34m)\u001B[0m\u001B[0;34m\u001B[0m\u001B[0;34m\u001B[0m\u001B[0m\n\u001B[0m\u001B[1;32m      5\u001B[0m     \u001B[0;31m# Print accuracy of method\u001B[0m\u001B[0;34m\u001B[0m\u001B[0;34m\u001B[0m\u001B[0;34m\u001B[0m\u001B[0m\n\u001B[1;32m      6\u001B[0m     \u001B[0my_pred\u001B[0m \u001B[0;34m=\u001B[0m \u001B[0mpredict_y\u001B[0m\u001B[0;34m(\u001B[0m\u001B[0mW\u001B[0m\u001B[0;34m,\u001B[0m \u001B[0mb\u001B[0m\u001B[0;34m,\u001B[0m \u001B[0mX_test\u001B[0m\u001B[0;34m,\u001B[0m \u001B[0;36m3\u001B[0m\u001B[0;34m,\u001B[0m \u001B[0mact_func\u001B[0m\u001B[0;34m)\u001B[0m\u001B[0;34m\u001B[0m\u001B[0;34m\u001B[0m\u001B[0m\n",
      "\u001B[0;32m/var/folders/jt/1k_qk63579j6wypsw2nkkwnw0000gp/T/ipykernel_55990/1823325010.py\u001B[0m in \u001B[0;36mtrain_nn\u001B[0;34m(nn_structure, X, y, iter_num, act_func, act_func_deriv, l2_lambda, alpha)\u001B[0m\n\u001B[1;32m     19\u001B[0m                 \u001B[0;32mif\u001B[0m \u001B[0ml\u001B[0m \u001B[0;34m==\u001B[0m \u001B[0mlen\u001B[0m\u001B[0;34m(\u001B[0m\u001B[0mnn_structure\u001B[0m\u001B[0;34m)\u001B[0m\u001B[0;34m:\u001B[0m\u001B[0;34m\u001B[0m\u001B[0;34m\u001B[0m\u001B[0m\n\u001B[1;32m     20\u001B[0m                     \u001B[0mdelta\u001B[0m\u001B[0;34m[\u001B[0m\u001B[0ml\u001B[0m\u001B[0;34m]\u001B[0m \u001B[0;34m=\u001B[0m \u001B[0mcalculate_out_layer_delta\u001B[0m\u001B[0;34m(\u001B[0m\u001B[0my\u001B[0m\u001B[0;34m[\u001B[0m\u001B[0mi\u001B[0m\u001B[0;34m,\u001B[0m\u001B[0;34m:\u001B[0m\u001B[0;34m]\u001B[0m\u001B[0;34m,\u001B[0m \u001B[0ma\u001B[0m\u001B[0;34m[\u001B[0m\u001B[0ml\u001B[0m\u001B[0;34m]\u001B[0m\u001B[0;34m,\u001B[0m \u001B[0mz\u001B[0m\u001B[0;34m[\u001B[0m\u001B[0ml\u001B[0m\u001B[0;34m]\u001B[0m\u001B[0;34m,\u001B[0m \u001B[0mact_func_deriv\u001B[0m\u001B[0;34m)\u001B[0m\u001B[0;34m\u001B[0m\u001B[0;34m\u001B[0m\u001B[0m\n\u001B[0;32m---> 21\u001B[0;31m                     \u001B[0mavg_cost\u001B[0m \u001B[0;34m+=\u001B[0m \u001B[0mnp\u001B[0m\u001B[0;34m.\u001B[0m\u001B[0mlinalg\u001B[0m\u001B[0;34m.\u001B[0m\u001B[0mnorm\u001B[0m\u001B[0;34m(\u001B[0m\u001B[0;34m(\u001B[0m\u001B[0my\u001B[0m\u001B[0;34m[\u001B[0m\u001B[0mi\u001B[0m\u001B[0;34m,\u001B[0m\u001B[0;34m:\u001B[0m\u001B[0;34m]\u001B[0m\u001B[0;34m-\u001B[0m\u001B[0ma\u001B[0m\u001B[0;34m[\u001B[0m\u001B[0ml\u001B[0m\u001B[0;34m]\u001B[0m\u001B[0;34m)\u001B[0m\u001B[0;34m)\u001B[0m\u001B[0;34m\u001B[0m\u001B[0;34m\u001B[0m\u001B[0m\n\u001B[0m\u001B[1;32m     22\u001B[0m                 \u001B[0;32melse\u001B[0m\u001B[0;34m:\u001B[0m\u001B[0;34m\u001B[0m\u001B[0;34m\u001B[0m\u001B[0m\n\u001B[1;32m     23\u001B[0m                     \u001B[0;32mif\u001B[0m \u001B[0ml\u001B[0m \u001B[0;34m>\u001B[0m \u001B[0;36m1\u001B[0m\u001B[0;34m:\u001B[0m\u001B[0;34m\u001B[0m\u001B[0;34m\u001B[0m\u001B[0m\n",
      "\u001B[0;31mKeyboardInterrupt\u001B[0m: "
     ]
    }
   ],
   "source": [
    "train_neural_network(X_train, y_v_train, X_test, y_test, y_out_len)"
   ],
   "metadata": {
    "collapsed": false,
    "pycharm": {
     "name": "#%%\n"
    }
   }
  },
  {
   "cell_type": "markdown",
   "source": [
    "### Run performance analysis"
   ],
   "metadata": {
    "collapsed": false
   }
  },
  {
   "cell_type": "code",
   "execution_count": null,
   "outputs": [],
   "source": [
    "# nn_performance('Sigmoid Activation Function', nn_structure, X_train, y_v_train, X_test, y_test, num_of_iterations, f, f_deriv)\n",
    "# Section a\n",
    "# nn_performance('Sigmoid, L2 Regularization (lambda=0.01)', nn_structure, X_train, y_v_train, X_test, y_test, num_of_iterations, f, f_deriv, 0.01)\n",
    "# Section b\n",
    "# nn_performance('ReLU Activation Function',nn_structure, X_train, y_v_train, X_test, y_test, num_of_iterations, re_lu, re_lu_deriv)\n",
    "# Section c\n",
    "# nn_performance('Tanh Activation Function', nn_structure, X_train, y_v_train, X_test, y_test, num_of_iterations, tanh, tanh_deriv)\n",
    "# Section d\n",
    "# nn_performance('Soft-plus Activation Function', nn_structure, X_train, y_v_train, X_test, y_test, num_of_iterations, soft_plus, soft_plus_deriv)\n",
    "# Section e\n",
    "# nn_performance('Sigmoid, 4000 Iterations (Not 3000)', nn_structure, X_train, y_v_train, X_test, y_test, num_of_iterations + 1000, f, f_deriv)\n",
    "# Section f\n",
    "# diff_nn_structure = [X.shape[1], 16, y_out_len]\n",
    "# nn_performance('Sigmoid, NN Structure = [11, 45 (Not 30), 10]', nn_structure, X_train, y_v_train, X_test, y_test, num_of_iterations, f, f_deriv)\n",
    "\n",
    "# for i in list(range(6, 7)) + list(range(11, 14)):\n",
    "#     nn_structure[1] = i\n",
    "#     print(f'Using NN Structure: {nn_structure}')\n",
    "#     nn_performance('Sigmoid, L2 Regularization (lambda=0.001)', nn_structure, X_train, y_v_train, X_test, y_test, num_of_iterations, f, f_deriv, 0.001)\n",
    "\n",
    "# Checking different l2 lambdas\n",
    "# for l2_lambda in [0.0008]:\n",
    "#     nn_performance(f'Sigmoid, L2={l2_lambda}, Structure={nn_structure}', nn_structure, X_train, y_v_train, X_test, y_test, num_of_iterations, f, f_deriv, l2_lambda)\n",
    "\n",
    "# Checking different NN structures\n",
    "# for nn in [nn_structure, [X.shape[1], 13, 11, y_out_len], [X.shape[1], 13, 6, y_out_len], [X.shape[1], 13, 3, y_out_len]]: # [11, 13, 3]]\n",
    "#     nn_performance(f'Sigmoid, L2={l2_lambda}, Structure={nn}', nn, X_train, y_v_train, X_test, y_test, num_of_iterations, f, f_deriv, l2_lambda)"
   ],
   "metadata": {
    "collapsed": false,
    "pycharm": {
     "name": "#%%\n"
    }
   }
  }
 ],
 "metadata": {
  "kernelspec": {
   "display_name": "Python 3",
   "language": "python",
   "name": "python3"
  },
  "language_info": {
   "codemirror_mode": {
    "name": "ipython",
    "version": 3
   },
   "file_extension": ".py",
   "mimetype": "text/x-python",
   "name": "python",
   "nbconvert_exporter": "python",
   "pygments_lexer": "ipython3",
   "version": "3.7.7"
  }
 },
 "nbformat": 4,
 "nbformat_minor": 2
}