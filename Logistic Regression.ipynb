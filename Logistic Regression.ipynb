{
 "cells": [
  {
   "cell_type": "markdown",
   "metadata": {},
   "source": [
    "# Final Project - Logistic Regression\n",
    "Logistic Regression for a classification problem. We are going to compare performance of both the algorithms on the same dataset with different values of parameters like type of kernel used, type of regularization techniques used (ridge/lasso) etc."
   ]
  },
  {
   "cell_type": "markdown",
   "source": [
    "# Imports"
   ],
   "metadata": {
    "collapsed": false
   }
  },
  {
   "cell_type": "code",
   "execution_count": 54,
   "outputs": [],
   "source": [
    "# Importing the libraries to be used:\n",
    "import numpy as np\n",
    "import numpy.random as r\n",
    "import pandas as pd\n",
    "from sklearn import linear_model\n",
    "import matplotlib.pyplot as plt\n",
    "from sklearn.preprocessing import PolynomialFeatures, StandardScaler  # It is important in neural networks to scale the date\n",
    "from sklearn.model_selection import train_test_split  # The standard - train/test to prevent overfitting and choose hyperparameters\n",
    "from sklearn.metrics import classification_report, confusion_matrix"
   ],
   "metadata": {
    "collapsed": false,
    "pycharm": {
     "name": "#%%\n"
    }
   }
  },
  {
   "cell_type": "code",
   "execution_count": 55,
   "outputs": [],
   "source": [
    "def transform_and_split_data(data):\n",
    "    X = data[:, :-1]\n",
    "    y = data[:, -1] - data[:, -1].min()\n",
    "    print(f'Original y hist: {np.histogram(y, range(int(y.max()) + 1))}')\n",
    "    y[y<=2] = 0.\n",
    "    y[y==3] = 1.\n",
    "    y[y>3] = 2.\n",
    "    print(f'Current y hist: {np.histogram(y, [-0.5, 0.5, 1.5, 2.5])}')\n",
    "    print(f'y min: {y.min()}, y max: {y.max()}')\n",
    "    y_out_len = int(y.max()) + 1\n",
    "\n",
    "    print(\"The shape of the wines dataset:\")\n",
    "    print(data.shape)\n",
    "    print(y[:10])\n",
    "    print(X[:10, :])\n",
    "\n",
    "    # Scale the dataset\n",
    "    X_scale = StandardScaler()\n",
    "    X = X_scale.fit_transform(X)\n",
    "    print(X) # Looking the new features after scaling\n",
    "\n",
    "    #Split the data into training and test set.  60% training and %40 test\n",
    "    X_train, X_test, y_train, y_test = train_test_split(X, y, test_size=0.2)\n",
    "\n",
    "\n",
    "    return X_train, y_train, X_test, y_test"
   ],
   "metadata": {
    "collapsed": false,
    "pycharm": {
     "name": "#%%\n"
    }
   }
  },
  {
   "cell_type": "markdown",
   "source": [
    "# Logistic Regression with Lasso (L1) Regularization"
   ],
   "metadata": {
    "collapsed": false
   }
  },
  {
   "cell_type": "code",
   "execution_count": 56,
   "outputs": [],
   "source": [
    "# Complete the function logreg that accepts 'c' as a parameter, which is used to create logreg model\n",
    "# with different values of C.\n",
    "def logreg_model(c , X_train, y_train, X_test, y_test, acc_train_logreg, acc_test_logreg):\n",
    "    # Create an object of logistic regression model using linear_model.\n",
    "    # Pass the value of penalty as 'L1'. By default, it is 'L2'.\n",
    "    # Pass the value of C = c. Note that C is the inverse of lambda. So, small value of C i.e. b/w 0 and 1\n",
    "    # means stronger regularization and large value means less regularization.\n",
    "    # Also, in sklearn, L1 is only supported with solver = 'saga'. Solver is the type of optimization algorithm like GDA or\n",
    "    # SGDA, which is to be used. So, 'saga' is another algorithm like that. Pass the value of solver as 'saga'\n",
    "\n",
    "    # TODO - Create the Logistic Regression model object as described above and save it to logreg - 5 points\n",
    "    logreg = linear_model.LogisticRegression(penalty='l1', C=c, solver='saga', max_iter=1e6)\n",
    "\n",
    "    # TODO - Fit the model on the training set\n",
    "    logreg.fit(X_train, y_train)\n",
    "\n",
    "    # TODO - Find the prediction on training set\n",
    "    Yhat_train = logreg.predict(X_train)\n",
    "\n",
    "    # Adding training accuracy to acc_train_logreg\n",
    "    acc_train = logreg.score(X_train, y_train)\n",
    "    acc_train_logreg.append(acc_train)\n",
    "    print(\"Accuracy on training data = %f\" % acc_train)\n",
    "\n",
    "    # TODO - Find the prediction on test set\n",
    "    Yhat_test = logreg.predict(X_test)\n",
    "    print(confusion_matrix(y_test, Yhat_test))\n",
    "    print(classification_report(y_test, Yhat_test))\n",
    "\n",
    "    # Adding testing accuracy to acc_test_logreg\n",
    "    acc_test = logreg.score(X_test, y_test)\n",
    "    acc_test_logreg.append(acc_test)\n",
    "    print(\"Accuracy on test data = %f\" % acc_test)"
   ],
   "metadata": {
    "collapsed": false,
    "pycharm": {
     "name": "#%%\n"
    }
   }
  },
  {
   "cell_type": "markdown",
   "source": [
    "# Logistic Regression with Ridge(L2) Regularization."
   ],
   "metadata": {
    "collapsed": false
   }
  },
  {
   "cell_type": "code",
   "execution_count": 57,
   "outputs": [],
   "source": [
    "def logreg2_model(c , X_train, Y_train, X_test, Y_test, acc_train_logreg2, acc_test_logreg2):\n",
    "    # Create an object of logistic regression model using linear_model.\n",
    "    # Pass the value of C=c.\n",
    "    # You need not pass other parameters as penalty is 'L2' by default.\n",
    "\n",
    "    # TODO - Create the Logistic Regression model object as described above and save it to logreg2 - 5 points\n",
    "    logreg2 = linear_model.LogisticRegression(C=c, max_iter=1e6)\n",
    "\n",
    "    # TODO - Fit the model on the training set - 5 points\n",
    "    logreg2.fit(X_train, Y_train)\n",
    "\n",
    "    # TODO - Find the prediction on training set - 5 points\n",
    "    Yhat_train = logreg2.predict(X_train)\n",
    "\n",
    "    # Adding training accuracy to acc_train_logreg2\n",
    "    acc_train = logreg2.score(X_train, Y_train)\n",
    "    acc_train_logreg2.append(acc_train)\n",
    "    print(\"Accuracy on training data = %f\" % acc_train)\n",
    "\n",
    "    # TODO - Find the prediction on test set\n",
    "    Yhat_test = logreg2.predict(X_test)\n",
    "    print(confusion_matrix(y_test, Yhat_test))\n",
    "    print(classification_report(y_test, Yhat_test))\n",
    "\n",
    "    # Adding testing accuracy to acc_test_logreg2\n",
    "    acc_test = logreg2.score(X_test, Y_test)\n",
    "    acc_test_logreg2.append(acc_test)\n",
    "    print(\"Accuracy on test data = %f\" % acc_test)"
   ],
   "metadata": {
    "collapsed": false,
    "pycharm": {
     "name": "#%%\n"
    }
   }
  },
  {
   "cell_type": "code",
   "execution_count": 58,
   "outputs": [],
   "source": [
    "def train_and_plot(X_train, y_train, X_test, y_test):\n",
    "    # L1\n",
    "    acc_train_logreg = []\n",
    "    acc_test_logreg = []\n",
    "    # Call the above function i.e. logreg_model with different values of parameter 'c'.\n",
    "    # Start with smaller values of 'c' say 0.0001, 0.001, 0.01, 0.1, 1, 10, 100\n",
    "    c_logreg = [0.0001, 0.001, 0.01, 0.1, 1, 10]\n",
    "    for c in c_logreg:\n",
    "        logreg_model(c, X_train, y_train, X_test, y_test, acc_train_logreg, acc_test_logreg)\n",
    "\n",
    "    # Plot training accuracy(Y-axis) v/s 'c' on X - Axis.\n",
    "    # Plot test accuracy(Y-Axis) v/s 'c' on X - Axis.\n",
    "    plt.plot(c_logreg, acc_train_logreg, color='red', label='Training Accuracy')\n",
    "    plt.plot(c_logreg, acc_test_logreg, color='green', label='Test Accuracy')\n",
    "    plt.xlabel('c')\n",
    "    plt.ylabel('accuracy')\n",
    "    plt.title('Training and Test accuracy v/s c')\n",
    "    plt.legend(loc='lower right')\n",
    "    plt.grid()\n",
    "    plt.show()\n",
    "\n",
    "    # L2\n",
    "    acc_train_logreg2 = []\n",
    "    acc_test_logreg2 = []\n",
    "    c_logreg2 = c_logreg\n",
    "    for c in c_logreg2:\n",
    "        logreg2_model(c, X_train, y_train, X_test, y_test, acc_train_logreg2, acc_test_logreg2)\n",
    "\n",
    "    # Plot training accuracy(Y-axis) v/s 'c' on X - Axis.\n",
    "    # Plot test accuracy(Y-Axis) v/s 'c' on X - Axis.\n",
    "    plt.plot(c_logreg2, acc_train_logreg2, color='red', label='Training Accuracy')\n",
    "    plt.plot(c_logreg2, acc_test_logreg2, color='green', label='Test Accuracy')\n",
    "    plt.xlabel('c')\n",
    "    plt.ylabel('accuracy')\n",
    "    plt.title('Training and Test accuracy v/s c')\n",
    "    plt.legend(loc='lower right')\n",
    "    plt.grid()\n",
    "    plt.show()"
   ],
   "metadata": {
    "collapsed": false,
    "pycharm": {
     "name": "#%%\n"
    }
   }
  },
  {
   "cell_type": "code",
   "execution_count": 59,
   "outputs": [],
   "source": [
    "df_red = pd.read_csv('winequality-red.csv', sep=';')\n",
    "data_red = df_red.to_numpy()\n",
    "\n",
    "df_white = pd.read_csv('winequality-white.csv', sep=';')\n",
    "data_white = df_white.to_numpy()\n",
    "\n",
    "data_all = np.vstack((data_red, data_white))\n",
    "\n",
    "rs = r.RandomState(42)\n",
    "r.shuffle(data_red)\n",
    "r.shuffle(data_white)\n",
    "r.shuffle(data_all)"
   ],
   "metadata": {
    "collapsed": false,
    "pycharm": {
     "name": "#%%\n"
    }
   }
  },
  {
   "cell_type": "markdown",
   "source": [
    "# Train Red Wines Data"
   ],
   "metadata": {
    "collapsed": false,
    "pycharm": {
     "name": "#%% md\n"
    }
   }
  },
  {
   "cell_type": "code",
   "execution_count": 60,
   "outputs": [
    {
     "name": "stdout",
     "output_type": "stream",
     "text": [
      "Original y hist: (array([ 10,  53, 681, 638, 217]), array([0, 1, 2, 3, 4, 5]))\n",
      "Current y hist: (array([744, 638, 217]), array([-0.5,  0.5,  1.5,  2.5]))\n",
      "y min: 0.0, y max: 2.0\n",
      "The shape of the wines dataset:\n",
      "(1599, 12)\n",
      "[0. 0. 1. 2. 0. 1. 0. 1. 0. 2.]\n",
      "[[7.7000e+00 6.9000e-01 5.0000e-02 2.7000e+00 7.5000e-02 1.5000e+01\n",
      "  2.7000e+01 9.9740e-01 3.2600e+00 6.1000e-01 9.1000e+00]\n",
      " [7.2000e+00 5.6000e-01 2.6000e-01 2.0000e+00 8.3000e-02 1.3000e+01\n",
      "  1.0000e+02 9.9586e-01 3.2600e+00 5.2000e-01 9.9000e+00]\n",
      " [7.3000e+00 5.2000e-01 3.2000e-01 2.1000e+00 7.0000e-02 5.1000e+01\n",
      "  7.0000e+01 9.9418e-01 3.3400e+00 8.2000e-01 1.2900e+01]\n",
      " [7.7000e+00 9.1500e-01 1.2000e-01 2.2000e+00 1.4300e-01 7.0000e+00\n",
      "  2.3000e+01 9.9640e-01 3.3500e+00 6.5000e-01 1.0200e+01]\n",
      " [8.6000e+00 5.5000e-01 9.0000e-02 3.3000e+00 6.8000e-02 8.0000e+00\n",
      "  1.7000e+01 9.9735e-01 3.2300e+00 4.4000e-01 1.0000e+01]\n",
      " [1.0000e+01 4.9000e-01 2.0000e-01 1.1000e+01 7.1000e-02 1.3000e+01\n",
      "  5.0000e+01 1.0015e+00 3.1600e+00 6.9000e-01 9.2000e+00]\n",
      " [1.1600e+01 4.2000e-01 5.3000e-01 3.3000e+00 1.0500e-01 3.3000e+01\n",
      "  9.8000e+01 1.0010e+00 3.2000e+00 9.5000e-01 9.2000e+00]\n",
      " [7.0000e+00 6.9000e-01 7.0000e-02 2.5000e+00 9.1000e-02 1.5000e+01\n",
      "  2.1000e+01 9.9572e-01 3.3800e+00 6.0000e-01 1.1300e+01]\n",
      " [9.3000e+00 4.8000e-01 2.9000e-01 2.1000e+00 1.2700e-01 6.0000e+00\n",
      "  1.6000e+01 9.9680e-01 3.2200e+00 7.2000e-01 1.1200e+01]\n",
      " [9.4000e+00 4.1000e-01 4.8000e-01 4.6000e+00 7.2000e-02 1.0000e+01\n",
      "  2.0000e+01 9.9730e-01 3.3400e+00 7.9000e-01 1.2200e+01]]\n",
      "[[-0.35600048  0.90601191 -1.13471997 ... -0.33117661 -0.28414114\n",
      "  -1.24184785]\n",
      " [-0.6432657   0.17976995 -0.05636026 ... -0.33117661 -0.81525883\n",
      "  -0.49090986]\n",
      " [-0.58581266 -0.04368911  0.25174251 ...  0.18716564  0.95513348\n",
      "   2.32510761]\n",
      " ...\n",
      " [ 0.16107692 -1.18891681  0.66254621 ... -0.26638383  0.06993732\n",
      "   1.38643512]\n",
      " [-0.6432657   0.93394429 -0.72391627 ... -0.13679827 -0.69723268\n",
      "  -0.30317536]\n",
      " [-0.1261883   0.2635671  -0.26176211 ... -0.13679827 -0.87427191\n",
      "  -1.1479806 ]]\n"
     ]
    }
   ],
   "source": [
    "X_train, y_train, X_test, y_test = transform_and_split_data(data_red)"
   ],
   "metadata": {
    "collapsed": false,
    "pycharm": {
     "name": "#%%\n"
    }
   }
  },
  {
   "cell_type": "code",
   "execution_count": 61,
   "outputs": [
    {
     "name": "stdout",
     "output_type": "stream",
     "text": [
      "Accuracy on training data = 0.401876\n",
      "[[  0 157   0]\n",
      " [  0 124   0]\n",
      " [  0  39   0]]\n",
      "              precision    recall  f1-score   support\n",
      "\n",
      "         0.0       0.00      0.00      0.00       157\n",
      "         1.0       0.39      1.00      0.56       124\n",
      "         2.0       0.00      0.00      0.00        39\n",
      "\n",
      "    accuracy                           0.39       320\n",
      "   macro avg       0.13      0.33      0.19       320\n",
      "weighted avg       0.15      0.39      0.22       320\n",
      "\n",
      "Accuracy on test data = 0.387500\n",
      "Accuracy on training data = 0.458952\n",
      "[[157   0   0]\n",
      " [124   0   0]\n",
      " [ 39   0   0]]\n",
      "              precision    recall  f1-score   support\n",
      "\n",
      "         0.0       0.49      1.00      0.66       157\n",
      "         1.0       0.00      0.00      0.00       124\n",
      "         2.0       0.00      0.00      0.00        39\n",
      "\n",
      "    accuracy                           0.49       320\n",
      "   macro avg       0.16      0.33      0.22       320\n",
      "weighted avg       0.24      0.49      0.32       320\n",
      "\n",
      "Accuracy on test data = 0.490625\n",
      "Accuracy on training data = 0.598905\n",
      "[[126  31   0]\n",
      " [ 60  64   0]\n",
      " [  4  35   0]]\n",
      "              precision    recall  f1-score   support\n",
      "\n",
      "         0.0       0.66      0.80      0.73       157\n",
      "         1.0       0.49      0.52      0.50       124\n",
      "         2.0       0.00      0.00      0.00        39\n",
      "\n",
      "    accuracy                           0.59       320\n",
      "   macro avg       0.39      0.44      0.41       320\n",
      "weighted avg       0.52      0.59      0.55       320\n",
      "\n",
      "Accuracy on test data = 0.593750\n",
      "Accuracy on training data = 0.634871\n",
      "[[111  46   0]\n",
      " [ 41  72  11]\n",
      " [  2  24  13]]\n",
      "              precision    recall  f1-score   support\n",
      "\n",
      "         0.0       0.72      0.71      0.71       157\n",
      "         1.0       0.51      0.58      0.54       124\n",
      "         2.0       0.54      0.33      0.41        39\n",
      "\n",
      "    accuracy                           0.61       320\n",
      "   macro avg       0.59      0.54      0.56       320\n",
      "weighted avg       0.62      0.61      0.61       320\n",
      "\n",
      "Accuracy on test data = 0.612500\n",
      "Accuracy on training data = 0.636435\n",
      "[[111  45   1]\n",
      " [ 37  74  13]\n",
      " [  1  23  15]]\n",
      "              precision    recall  f1-score   support\n",
      "\n",
      "         0.0       0.74      0.71      0.73       157\n",
      "         1.0       0.52      0.60      0.56       124\n",
      "         2.0       0.52      0.38      0.44        39\n",
      "\n",
      "    accuracy                           0.62       320\n",
      "   macro avg       0.59      0.56      0.57       320\n",
      "weighted avg       0.63      0.62      0.63       320\n",
      "\n",
      "Accuracy on test data = 0.625000\n"
     ]
    },
    {
     "name": "stderr",
     "output_type": "stream",
     "text": [
      "/Library/Frameworks/Python.framework/Versions/3.9/lib/python3.9/site-packages/sklearn/metrics/_classification.py:1308: UndefinedMetricWarning: Precision and F-score are ill-defined and being set to 0.0 in labels with no predicted samples. Use `zero_division` parameter to control this behavior.\n",
      "  _warn_prf(average, modifier, msg_start, len(result))\n",
      "/Library/Frameworks/Python.framework/Versions/3.9/lib/python3.9/site-packages/sklearn/metrics/_classification.py:1308: UndefinedMetricWarning: Precision and F-score are ill-defined and being set to 0.0 in labels with no predicted samples. Use `zero_division` parameter to control this behavior.\n",
      "  _warn_prf(average, modifier, msg_start, len(result))\n",
      "/Library/Frameworks/Python.framework/Versions/3.9/lib/python3.9/site-packages/sklearn/metrics/_classification.py:1308: UndefinedMetricWarning: Precision and F-score are ill-defined and being set to 0.0 in labels with no predicted samples. Use `zero_division` parameter to control this behavior.\n",
      "  _warn_prf(average, modifier, msg_start, len(result))\n",
      "/Library/Frameworks/Python.framework/Versions/3.9/lib/python3.9/site-packages/sklearn/metrics/_classification.py:1308: UndefinedMetricWarning: Precision and F-score are ill-defined and being set to 0.0 in labels with no predicted samples. Use `zero_division` parameter to control this behavior.\n",
      "  _warn_prf(average, modifier, msg_start, len(result))\n",
      "/Library/Frameworks/Python.framework/Versions/3.9/lib/python3.9/site-packages/sklearn/metrics/_classification.py:1308: UndefinedMetricWarning: Precision and F-score are ill-defined and being set to 0.0 in labels with no predicted samples. Use `zero_division` parameter to control this behavior.\n",
      "  _warn_prf(average, modifier, msg_start, len(result))\n",
      "/Library/Frameworks/Python.framework/Versions/3.9/lib/python3.9/site-packages/sklearn/metrics/_classification.py:1308: UndefinedMetricWarning: Precision and F-score are ill-defined and being set to 0.0 in labels with no predicted samples. Use `zero_division` parameter to control this behavior.\n",
      "  _warn_prf(average, modifier, msg_start, len(result))\n",
      "/Library/Frameworks/Python.framework/Versions/3.9/lib/python3.9/site-packages/sklearn/metrics/_classification.py:1308: UndefinedMetricWarning: Precision and F-score are ill-defined and being set to 0.0 in labels with no predicted samples. Use `zero_division` parameter to control this behavior.\n",
      "  _warn_prf(average, modifier, msg_start, len(result))\n",
      "/Library/Frameworks/Python.framework/Versions/3.9/lib/python3.9/site-packages/sklearn/metrics/_classification.py:1308: UndefinedMetricWarning: Precision and F-score are ill-defined and being set to 0.0 in labels with no predicted samples. Use `zero_division` parameter to control this behavior.\n",
      "  _warn_prf(average, modifier, msg_start, len(result))\n",
      "/Library/Frameworks/Python.framework/Versions/3.9/lib/python3.9/site-packages/sklearn/metrics/_classification.py:1308: UndefinedMetricWarning: Precision and F-score are ill-defined and being set to 0.0 in labels with no predicted samples. Use `zero_division` parameter to control this behavior.\n",
      "  _warn_prf(average, modifier, msg_start, len(result))\n"
     ]
    },
    {
     "name": "stdout",
     "output_type": "stream",
     "text": [
      "Accuracy on training data = 0.634089\n",
      "[[111  45   1]\n",
      " [ 35  76  13]\n",
      " [  1  23  15]]\n",
      "              precision    recall  f1-score   support\n",
      "\n",
      "         0.0       0.76      0.71      0.73       157\n",
      "         1.0       0.53      0.61      0.57       124\n",
      "         2.0       0.52      0.38      0.44        39\n",
      "\n",
      "    accuracy                           0.63       320\n",
      "   macro avg       0.60      0.57      0.58       320\n",
      "weighted avg       0.64      0.63      0.63       320\n",
      "\n",
      "Accuracy on test data = 0.631250\n"
     ]
    },
    {
     "data": {
      "text/plain": "<Figure size 432x288 with 1 Axes>",
      "image/png": "[encoded data removed]"
     },
     "metadata": {
      "needs_background": "light"
     },
     "output_type": "display_data"
    },
    {
     "name": "stdout",
     "output_type": "stream",
     "text": [
      "Accuracy on training data = 0.468335\n",
      "[[157   0   0]\n",
      " [119   5   0]\n",
      " [ 32   7   0]]\n",
      "              precision    recall  f1-score   support\n",
      "\n",
      "         0.0       0.51      1.00      0.68       157\n",
      "         1.0       0.42      0.04      0.07       124\n",
      "         2.0       0.00      0.00      0.00        39\n",
      "\n",
      "    accuracy                           0.51       320\n",
      "   macro avg       0.31      0.35      0.25       320\n",
      "weighted avg       0.41      0.51      0.36       320\n",
      "\n",
      "Accuracy on test data = 0.506250\n",
      "Accuracy on training data = 0.590305\n",
      "[[133  24   0]\n",
      " [ 67  57   0]\n",
      " [  4  35   0]]\n",
      "              precision    recall  f1-score   support\n",
      "\n",
      "         0.0       0.65      0.85      0.74       157\n",
      "         1.0       0.49      0.46      0.47       124\n",
      "         2.0       0.00      0.00      0.00        39\n",
      "\n",
      "    accuracy                           0.59       320\n",
      "   macro avg       0.38      0.44      0.40       320\n",
      "weighted avg       0.51      0.59      0.55       320\n",
      "\n",
      "Accuracy on test data = 0.593750\n",
      "Accuracy on training data = 0.630962\n",
      "[[115  42   0]\n",
      " [ 43  75   6]\n",
      " [  2  29   8]]\n",
      "              precision    recall  f1-score   support\n",
      "\n",
      "         0.0       0.72      0.73      0.73       157\n",
      "         1.0       0.51      0.60      0.56       124\n",
      "         2.0       0.57      0.21      0.30        39\n",
      "\n",
      "    accuracy                           0.62       320\n",
      "   macro avg       0.60      0.51      0.53       320\n",
      "weighted avg       0.62      0.62      0.61       320\n",
      "\n",
      "Accuracy on test data = 0.618750\n",
      "Accuracy on training data = 0.637217\n",
      "[[113  43   1]\n",
      " [ 37  74  13]\n",
      " [  1  23  15]]\n",
      "              precision    recall  f1-score   support\n",
      "\n",
      "         0.0       0.75      0.72      0.73       157\n",
      "         1.0       0.53      0.60      0.56       124\n",
      "         2.0       0.52      0.38      0.44        39\n",
      "\n",
      "    accuracy                           0.63       320\n",
      "   macro avg       0.60      0.57      0.58       320\n",
      "weighted avg       0.64      0.63      0.63       320\n",
      "\n",
      "Accuracy on test data = 0.631250\n",
      "Accuracy on training data = 0.632525\n",
      "[[111  45   1]\n",
      " [ 36  75  13]\n",
      " [  1  23  15]]\n",
      "              precision    recall  f1-score   support\n",
      "\n",
      "         0.0       0.75      0.71      0.73       157\n",
      "         1.0       0.52      0.60      0.56       124\n",
      "         2.0       0.52      0.38      0.44        39\n",
      "\n",
      "    accuracy                           0.63       320\n",
      "   macro avg       0.60      0.57      0.58       320\n",
      "weighted avg       0.63      0.63      0.63       320\n",
      "\n",
      "Accuracy on test data = 0.628125\n",
      "Accuracy on training data = 0.634089\n",
      "[[111  45   1]\n",
      " [ 35  76  13]\n",
      " [  1  23  15]]\n",
      "              precision    recall  f1-score   support\n",
      "\n",
      "         0.0       0.76      0.71      0.73       157\n",
      "         1.0       0.53      0.61      0.57       124\n",
      "         2.0       0.52      0.38      0.44        39\n",
      "\n",
      "    accuracy                           0.63       320\n",
      "   macro avg       0.60      0.57      0.58       320\n",
      "weighted avg       0.64      0.63      0.63       320\n",
      "\n",
      "Accuracy on test data = 0.631250\n"
     ]
    },
    {
     "name": "stderr",
     "output_type": "stream",
     "text": [
      "/Library/Frameworks/Python.framework/Versions/3.9/lib/python3.9/site-packages/sklearn/metrics/_classification.py:1308: UndefinedMetricWarning: Precision and F-score are ill-defined and being set to 0.0 in labels with no predicted samples. Use `zero_division` parameter to control this behavior.\n",
      "  _warn_prf(average, modifier, msg_start, len(result))\n",
      "/Library/Frameworks/Python.framework/Versions/3.9/lib/python3.9/site-packages/sklearn/metrics/_classification.py:1308: UndefinedMetricWarning: Precision and F-score are ill-defined and being set to 0.0 in labels with no predicted samples. Use `zero_division` parameter to control this behavior.\n",
      "  _warn_prf(average, modifier, msg_start, len(result))\n",
      "/Library/Frameworks/Python.framework/Versions/3.9/lib/python3.9/site-packages/sklearn/metrics/_classification.py:1308: UndefinedMetricWarning: Precision and F-score are ill-defined and being set to 0.0 in labels with no predicted samples. Use `zero_division` parameter to control this behavior.\n",
      "  _warn_prf(average, modifier, msg_start, len(result))\n",
      "/Library/Frameworks/Python.framework/Versions/3.9/lib/python3.9/site-packages/sklearn/metrics/_classification.py:1308: UndefinedMetricWarning: Precision and F-score are ill-defined and being set to 0.0 in labels with no predicted samples. Use `zero_division` parameter to control this behavior.\n",
      "  _warn_prf(average, modifier, msg_start, len(result))\n",
      "/Library/Frameworks/Python.framework/Versions/3.9/lib/python3.9/site-packages/sklearn/metrics/_classification.py:1308: UndefinedMetricWarning: Precision and F-score are ill-defined and being set to 0.0 in labels with no predicted samples. Use `zero_division` parameter to control this behavior.\n",
      "  _warn_prf(average, modifier, msg_start, len(result))\n",
      "/Library/Frameworks/Python.framework/Versions/3.9/lib/python3.9/site-packages/sklearn/metrics/_classification.py:1308: UndefinedMetricWarning: Precision and F-score are ill-defined and being set to 0.0 in labels with no predicted samples. Use `zero_division` parameter to control this behavior.\n",
      "  _warn_prf(average, modifier, msg_start, len(result))\n"
     ]
    },
    {
     "data": {
      "text/plain": "<Figure size 432x288 with 1 Axes>",
      "image/png": "[encoded data removed]"
     },
     "metadata": {
      "needs_background": "light"
     },
     "output_type": "display_data"
    }
   ],
   "source": [
    "train_and_plot(X_train, y_train, X_test, y_test)"
   ],
   "metadata": {
    "collapsed": false,
    "pycharm": {
     "name": "#%%\n"
    }
   }
  },
  {
   "cell_type": "code",
   "execution_count": 62,
   "outputs": [
    {
     "name": "stdout",
     "output_type": "stream",
     "text": [
      "Accuracy on training data = 0.458952\n",
      "[[157   0   0]\n",
      " [124   0   0]\n",
      " [ 39   0   0]]\n",
      "              precision    recall  f1-score   support\n",
      "\n",
      "         0.0       0.49      1.00      0.66       157\n",
      "         1.0       0.00      0.00      0.00       124\n",
      "         2.0       0.00      0.00      0.00        39\n",
      "\n",
      "    accuracy                           0.49       320\n",
      "   macro avg       0.16      0.33      0.22       320\n",
      "weighted avg       0.24      0.49      0.32       320\n",
      "\n",
      "Accuracy on test data = 0.490625\n",
      "Accuracy on training data = 0.458952\n",
      "[[157   0   0]\n",
      " [124   0   0]\n",
      " [ 39   0   0]]\n",
      "              precision    recall  f1-score   support\n",
      "\n",
      "         0.0       0.49      1.00      0.66       157\n",
      "         1.0       0.00      0.00      0.00       124\n",
      "         2.0       0.00      0.00      0.00        39\n",
      "\n",
      "    accuracy                           0.49       320\n",
      "   macro avg       0.16      0.33      0.22       320\n",
      "weighted avg       0.24      0.49      0.32       320\n",
      "\n",
      "Accuracy on test data = 0.490625\n"
     ]
    },
    {
     "name": "stderr",
     "output_type": "stream",
     "text": [
      "/Library/Frameworks/Python.framework/Versions/3.9/lib/python3.9/site-packages/sklearn/metrics/_classification.py:1308: UndefinedMetricWarning: Precision and F-score are ill-defined and being set to 0.0 in labels with no predicted samples. Use `zero_division` parameter to control this behavior.\n",
      "  _warn_prf(average, modifier, msg_start, len(result))\n",
      "/Library/Frameworks/Python.framework/Versions/3.9/lib/python3.9/site-packages/sklearn/metrics/_classification.py:1308: UndefinedMetricWarning: Precision and F-score are ill-defined and being set to 0.0 in labels with no predicted samples. Use `zero_division` parameter to control this behavior.\n",
      "  _warn_prf(average, modifier, msg_start, len(result))\n",
      "/Library/Frameworks/Python.framework/Versions/3.9/lib/python3.9/site-packages/sklearn/metrics/_classification.py:1308: UndefinedMetricWarning: Precision and F-score are ill-defined and being set to 0.0 in labels with no predicted samples. Use `zero_division` parameter to control this behavior.\n",
      "  _warn_prf(average, modifier, msg_start, len(result))\n",
      "/Library/Frameworks/Python.framework/Versions/3.9/lib/python3.9/site-packages/sklearn/metrics/_classification.py:1308: UndefinedMetricWarning: Precision and F-score are ill-defined and being set to 0.0 in labels with no predicted samples. Use `zero_division` parameter to control this behavior.\n",
      "  _warn_prf(average, modifier, msg_start, len(result))\n",
      "/Library/Frameworks/Python.framework/Versions/3.9/lib/python3.9/site-packages/sklearn/metrics/_classification.py:1308: UndefinedMetricWarning: Precision and F-score are ill-defined and being set to 0.0 in labels with no predicted samples. Use `zero_division` parameter to control this behavior.\n",
      "  _warn_prf(average, modifier, msg_start, len(result))\n",
      "/Library/Frameworks/Python.framework/Versions/3.9/lib/python3.9/site-packages/sklearn/metrics/_classification.py:1308: UndefinedMetricWarning: Precision and F-score are ill-defined and being set to 0.0 in labels with no predicted samples. Use `zero_division` parameter to control this behavior.\n",
      "  _warn_prf(average, modifier, msg_start, len(result))\n"
     ]
    },
    {
     "name": "stdout",
     "output_type": "stream",
     "text": [
      "Accuracy on training data = 0.603597\n",
      "[[121  36   0]\n",
      " [ 55  69   0]\n",
      " [  5  34   0]]\n",
      "              precision    recall  f1-score   support\n",
      "\n",
      "         0.0       0.67      0.77      0.72       157\n",
      "         1.0       0.50      0.56      0.52       124\n",
      "         2.0       0.00      0.00      0.00        39\n",
      "\n",
      "    accuracy                           0.59       320\n",
      "   macro avg       0.39      0.44      0.41       320\n",
      "weighted avg       0.52      0.59      0.55       320\n",
      "\n",
      "Accuracy on test data = 0.593750\n"
     ]
    },
    {
     "name": "stderr",
     "output_type": "stream",
     "text": [
      "/Library/Frameworks/Python.framework/Versions/3.9/lib/python3.9/site-packages/sklearn/metrics/_classification.py:1308: UndefinedMetricWarning: Precision and F-score are ill-defined and being set to 0.0 in labels with no predicted samples. Use `zero_division` parameter to control this behavior.\n",
      "  _warn_prf(average, modifier, msg_start, len(result))\n",
      "/Library/Frameworks/Python.framework/Versions/3.9/lib/python3.9/site-packages/sklearn/metrics/_classification.py:1308: UndefinedMetricWarning: Precision and F-score are ill-defined and being set to 0.0 in labels with no predicted samples. Use `zero_division` parameter to control this behavior.\n",
      "  _warn_prf(average, modifier, msg_start, len(result))\n",
      "/Library/Frameworks/Python.framework/Versions/3.9/lib/python3.9/site-packages/sklearn/metrics/_classification.py:1308: UndefinedMetricWarning: Precision and F-score are ill-defined and being set to 0.0 in labels with no predicted samples. Use `zero_division` parameter to control this behavior.\n",
      "  _warn_prf(average, modifier, msg_start, len(result))\n"
     ]
    },
    {
     "name": "stdout",
     "output_type": "stream",
     "text": [
      "Accuracy on training data = 0.657545\n",
      "[[114  43   0]\n",
      " [ 39  76   9]\n",
      " [  1  22  16]]\n",
      "              precision    recall  f1-score   support\n",
      "\n",
      "         0.0       0.74      0.73      0.73       157\n",
      "         1.0       0.54      0.61      0.57       124\n",
      "         2.0       0.64      0.41      0.50        39\n",
      "\n",
      "    accuracy                           0.64       320\n",
      "   macro avg       0.64      0.58      0.60       320\n",
      "weighted avg       0.65      0.64      0.64       320\n",
      "\n",
      "Accuracy on test data = 0.643750\n",
      "Accuracy on training data = 0.688038\n",
      "[[118  39   0]\n",
      " [ 37  73  14]\n",
      " [  2  20  17]]\n",
      "              precision    recall  f1-score   support\n",
      "\n",
      "         0.0       0.75      0.75      0.75       157\n",
      "         1.0       0.55      0.59      0.57       124\n",
      "         2.0       0.55      0.44      0.49        39\n",
      "\n",
      "    accuracy                           0.65       320\n",
      "   macro avg       0.62      0.59      0.60       320\n",
      "weighted avg       0.65      0.65      0.65       320\n",
      "\n",
      "Accuracy on test data = 0.650000\n",
      "Accuracy on training data = 0.697420\n",
      "[[114  41   2]\n",
      " [ 38  73  13]\n",
      " [  1  18  20]]\n",
      "              precision    recall  f1-score   support\n",
      "\n",
      "         0.0       0.75      0.73      0.74       157\n",
      "         1.0       0.55      0.59      0.57       124\n",
      "         2.0       0.57      0.51      0.54        39\n",
      "\n",
      "    accuracy                           0.65       320\n",
      "   macro avg       0.62      0.61      0.62       320\n",
      "weighted avg       0.65      0.65      0.65       320\n",
      "\n",
      "Accuracy on test data = 0.646875\n"
     ]
    },
    {
     "data": {
      "text/plain": "<Figure size 432x288 with 1 Axes>",
      "image/png": "[encoded data removed]"
     },
     "metadata": {
      "needs_background": "light"
     },
     "output_type": "display_data"
    },
    {
     "name": "stdout",
     "output_type": "stream",
     "text": [
      "Accuracy on training data = 0.506646\n",
      "[[150   7   0]\n",
      " [ 91  33   0]\n",
      " [ 26  13   0]]\n",
      "              precision    recall  f1-score   support\n",
      "\n",
      "         0.0       0.56      0.96      0.71       157\n",
      "         1.0       0.62      0.27      0.37       124\n",
      "         2.0       0.00      0.00      0.00        39\n",
      "\n",
      "    accuracy                           0.57       320\n",
      "   macro avg       0.39      0.41      0.36       320\n",
      "weighted avg       0.52      0.57      0.49       320\n",
      "\n",
      "Accuracy on test data = 0.571875\n",
      "Accuracy on training data = 0.616106\n",
      "[[121  36   0]\n",
      " [ 50  72   2]\n",
      " [  6  27   6]]\n",
      "              precision    recall  f1-score   support\n",
      "\n",
      "         0.0       0.68      0.77      0.72       157\n",
      "         1.0       0.53      0.58      0.56       124\n",
      "         2.0       0.75      0.15      0.26        39\n",
      "\n",
      "    accuracy                           0.62       320\n",
      "   macro avg       0.66      0.50      0.51       320\n",
      "weighted avg       0.63      0.62      0.60       320\n",
      "\n",
      "Accuracy on test data = 0.621875\n",
      "Accuracy on training data = 0.666927\n",
      "[[118  39   0]\n",
      " [ 35  79  10]\n",
      " [  1  24  14]]\n",
      "              precision    recall  f1-score   support\n",
      "\n",
      "         0.0       0.77      0.75      0.76       157\n",
      "         1.0       0.56      0.64      0.59       124\n",
      "         2.0       0.58      0.36      0.44        39\n",
      "\n",
      "    accuracy                           0.66       320\n",
      "   macro avg       0.64      0.58      0.60       320\n",
      "weighted avg       0.66      0.66      0.66       320\n",
      "\n",
      "Accuracy on test data = 0.659375\n"
     ]
    },
    {
     "name": "stderr",
     "output_type": "stream",
     "text": [
      "/Library/Frameworks/Python.framework/Versions/3.9/lib/python3.9/site-packages/sklearn/metrics/_classification.py:1308: UndefinedMetricWarning: Precision and F-score are ill-defined and being set to 0.0 in labels with no predicted samples. Use `zero_division` parameter to control this behavior.\n",
      "  _warn_prf(average, modifier, msg_start, len(result))\n",
      "/Library/Frameworks/Python.framework/Versions/3.9/lib/python3.9/site-packages/sklearn/metrics/_classification.py:1308: UndefinedMetricWarning: Precision and F-score are ill-defined and being set to 0.0 in labels with no predicted samples. Use `zero_division` parameter to control this behavior.\n",
      "  _warn_prf(average, modifier, msg_start, len(result))\n",
      "/Library/Frameworks/Python.framework/Versions/3.9/lib/python3.9/site-packages/sklearn/metrics/_classification.py:1308: UndefinedMetricWarning: Precision and F-score are ill-defined and being set to 0.0 in labels with no predicted samples. Use `zero_division` parameter to control this behavior.\n",
      "  _warn_prf(average, modifier, msg_start, len(result))\n"
     ]
    },
    {
     "name": "stdout",
     "output_type": "stream",
     "text": [
      "Accuracy on training data = 0.686474\n",
      "[[117  40   0]\n",
      " [ 35  74  15]\n",
      " [  1  19  19]]\n",
      "              precision    recall  f1-score   support\n",
      "\n",
      "         0.0       0.76      0.75      0.75       157\n",
      "         1.0       0.56      0.60      0.58       124\n",
      "         2.0       0.56      0.49      0.52        39\n",
      "\n",
      "    accuracy                           0.66       320\n",
      "   macro avg       0.63      0.61      0.62       320\n",
      "weighted avg       0.66      0.66      0.66       320\n",
      "\n",
      "Accuracy on test data = 0.656250\n",
      "Accuracy on training data = 0.698984\n",
      "[[115  41   1]\n",
      " [ 35  74  15]\n",
      " [  1  17  21]]\n",
      "              precision    recall  f1-score   support\n",
      "\n",
      "         0.0       0.76      0.73      0.75       157\n",
      "         1.0       0.56      0.60      0.58       124\n",
      "         2.0       0.57      0.54      0.55        39\n",
      "\n",
      "    accuracy                           0.66       320\n",
      "   macro avg       0.63      0.62      0.63       320\n",
      "weighted avg       0.66      0.66      0.66       320\n",
      "\n",
      "Accuracy on test data = 0.656250\n",
      "Accuracy on training data = 0.691165\n",
      "[[115  39   3]\n",
      " [ 34  76  14]\n",
      " [  1  16  22]]\n",
      "              precision    recall  f1-score   support\n",
      "\n",
      "         0.0       0.77      0.73      0.75       157\n",
      "         1.0       0.58      0.61      0.60       124\n",
      "         2.0       0.56      0.56      0.56        39\n",
      "\n",
      "    accuracy                           0.67       320\n",
      "   macro avg       0.64      0.64      0.64       320\n",
      "weighted avg       0.67      0.67      0.67       320\n",
      "\n",
      "Accuracy on test data = 0.665625\n"
     ]
    },
    {
     "data": {
      "text/plain": "<Figure size 432x288 with 1 Axes>",
      "image/png": "[encoded data removed]"
     },
     "metadata": {
      "needs_background": "light"
     },
     "output_type": "display_data"
    }
   ],
   "source": [
    "# Create an object of PolynomialFeatures(2)\n",
    "poly = PolynomialFeatures(2)\n",
    "# Create the transformed data matrices for training and test using poly.fit_transform(..)\n",
    "X_transformed_train = poly.fit_transform(X_train)\n",
    "X_transformed_test = poly.fit_transform(X_test)\n",
    "train_and_plot(X_transformed_train, y_train, X_transformed_test, y_test)"
   ],
   "metadata": {
    "collapsed": false,
    "pycharm": {
     "name": "#%%\n"
    }
   }
  },
  {
   "cell_type": "markdown",
   "source": [
    "# Train White Wines Data"
   ],
   "metadata": {
    "collapsed": false,
    "pycharm": {
     "name": "#%% md\n"
    }
   }
  },
  {
   "cell_type": "code",
   "execution_count": 63,
   "outputs": [
    {
     "name": "stdout",
     "output_type": "stream",
     "text": [
      "Original y hist: (array([  20,  163, 1457, 2198,  880,  180]), array([0, 1, 2, 3, 4, 5, 6]))\n",
      "Current y hist: (array([1640, 2198, 1060]), array([-0.5,  0.5,  1.5,  2.5]))\n",
      "y min: 0.0, y max: 2.0\n",
      "The shape of the wines dataset:\n",
      "(4898, 12)\n",
      "[0. 2. 1. 0. 1. 1. 1. 1. 1. 1.]\n",
      "[[6.4000e+00 2.9000e-01 4.4000e-01 3.6000e+00 2.0000e-01 7.5000e+01\n",
      "  1.8100e+02 9.9420e-01 3.0200e+00 4.1000e-01 9.1000e+00]\n",
      " [6.5000e+00 1.8000e-01 3.1000e-01 1.7000e+00 4.4000e-02 3.0000e+01\n",
      "  1.2700e+02 9.9280e-01 3.4900e+00 5.0000e-01 1.0200e+01]\n",
      " [8.3000e+00 3.0000e-01 3.6000e-01 1.0000e+01 4.2000e-02 3.3000e+01\n",
      "  1.6900e+02 9.9820e-01 3.2300e+00 5.1000e-01 9.3000e+00]\n",
      " [6.7000e+00 1.8000e-01 3.0000e-01 6.4000e+00 4.8000e-02 4.0000e+01\n",
      "  2.5100e+02 9.9560e-01 3.2900e+00 5.2000e-01 1.0000e+01]\n",
      " [7.9000e+00 2.6000e-01 3.3000e-01 1.0300e+01 3.9000e-02 7.3000e+01\n",
      "  2.1200e+02 9.9690e-01 2.9300e+00 4.9000e-01 9.5000e+00]\n",
      " [6.2000e+00 2.8000e-01 2.7000e-01 1.0300e+01 3.0000e-02 2.6000e+01\n",
      "  1.0800e+02 9.9388e-01 3.2000e+00 3.6000e-01 1.0700e+01]\n",
      " [8.0000e+00 2.7000e-01 3.3000e-01 1.2000e+00 5.0000e-02 4.1000e+01\n",
      "  1.0300e+02 9.9002e-01 3.0000e+00 4.5000e-01 1.2400e+01]\n",
      " [6.3000e+00 2.7000e-01 2.5000e-01 5.8000e+00 3.8000e-02 5.2000e+01\n",
      "  1.5500e+02 9.9500e-01 3.2800e+00 3.8000e-01 9.4000e+00]\n",
      " [6.0000e+00 2.7000e-01 2.6000e-01 1.3000e+00 3.8000e-02 3.2000e+01\n",
      "  1.3800e+02 9.9125e-01 3.4600e+00 4.3000e-01 1.1100e+01]\n",
      " [8.0000e+00 2.6000e-01 2.8000e-01 4.8000e+00 5.0000e-02 3.4000e+01\n",
      "  1.5000e+02 9.9437e-01 3.1300e+00 5.0000e-01 1.0000e+01]]\n",
      "[[-0.53898711  0.11667379  0.87439652 ... -1.11445795 -0.69971036\n",
      "  -1.14934812]\n",
      " [-0.4204731  -0.9747665  -0.1999175  ...  1.99843026  0.08897337\n",
      "  -0.2553989 ]\n",
      " [ 1.71277913  0.21589563  0.2132802  ...  0.27640699  0.1766049\n",
      "  -0.9868119 ]\n",
      " ...\n",
      " [ 0.40912499 -0.47865728 -1.19159198 ... -0.45214131  0.35186795\n",
      "  -1.23061624]\n",
      " [-0.06493106  0.01745194 -1.35687106 ...  0.14394366  0.1766049\n",
      "  -1.23061624]\n",
      " [-0.65750113  0.11667379  0.54383836 ... -0.25344632 -0.43681578\n",
      "  -0.9868119 ]]\n"
     ]
    }
   ],
   "source": [
    "X_train, y_train, X_test, y_test = transform_and_split_data(data_white)"
   ],
   "metadata": {
    "collapsed": false,
    "pycharm": {
     "name": "#%%\n"
    }
   }
  },
  {
   "cell_type": "code",
   "execution_count": 64,
   "outputs": [
    {
     "name": "stdout",
     "output_type": "stream",
     "text": [
      "Accuracy on training data = 0.451251\n",
      "[[  0 319   0]\n",
      " [  0 430   0]\n",
      " [  0 231   0]]\n",
      "              precision    recall  f1-score   support\n",
      "\n",
      "         0.0       0.00      0.00      0.00       319\n",
      "         1.0       0.44      1.00      0.61       430\n",
      "         2.0       0.00      0.00      0.00       231\n",
      "\n",
      "    accuracy                           0.44       980\n",
      "   macro avg       0.15      0.33      0.20       980\n",
      "weighted avg       0.19      0.44      0.27       980\n",
      "\n",
      "Accuracy on test data = 0.438776\n",
      "Accuracy on training data = 0.451251\n",
      "[[  0 319   0]\n",
      " [  0 430   0]\n",
      " [  0 231   0]]\n",
      "              precision    recall  f1-score   support\n",
      "\n",
      "         0.0       0.00      0.00      0.00       319\n",
      "         1.0       0.44      1.00      0.61       430\n",
      "         2.0       0.00      0.00      0.00       231\n",
      "\n",
      "    accuracy                           0.44       980\n",
      "   macro avg       0.15      0.33      0.20       980\n",
      "weighted avg       0.19      0.44      0.27       980\n",
      "\n",
      "Accuracy on test data = 0.438776\n",
      "Accuracy on training data = 0.565850\n",
      "[[175 142   2]\n",
      " [110 297  23]\n",
      " [ 11 172  48]]\n",
      "              precision    recall  f1-score   support\n",
      "\n",
      "         0.0       0.59      0.55      0.57       319\n",
      "         1.0       0.49      0.69      0.57       430\n",
      "         2.0       0.66      0.21      0.32       231\n",
      "\n",
      "    accuracy                           0.53       980\n",
      "   macro avg       0.58      0.48      0.49       980\n",
      "weighted avg       0.56      0.53      0.51       980\n",
      "\n",
      "Accuracy on test data = 0.530612\n"
     ]
    },
    {
     "name": "stderr",
     "output_type": "stream",
     "text": [
      "/Library/Frameworks/Python.framework/Versions/3.9/lib/python3.9/site-packages/sklearn/metrics/_classification.py:1308: UndefinedMetricWarning: Precision and F-score are ill-defined and being set to 0.0 in labels with no predicted samples. Use `zero_division` parameter to control this behavior.\n",
      "  _warn_prf(average, modifier, msg_start, len(result))\n",
      "/Library/Frameworks/Python.framework/Versions/3.9/lib/python3.9/site-packages/sklearn/metrics/_classification.py:1308: UndefinedMetricWarning: Precision and F-score are ill-defined and being set to 0.0 in labels with no predicted samples. Use `zero_division` parameter to control this behavior.\n",
      "  _warn_prf(average, modifier, msg_start, len(result))\n",
      "/Library/Frameworks/Python.framework/Versions/3.9/lib/python3.9/site-packages/sklearn/metrics/_classification.py:1308: UndefinedMetricWarning: Precision and F-score are ill-defined and being set to 0.0 in labels with no predicted samples. Use `zero_division` parameter to control this behavior.\n",
      "  _warn_prf(average, modifier, msg_start, len(result))\n",
      "/Library/Frameworks/Python.framework/Versions/3.9/lib/python3.9/site-packages/sklearn/metrics/_classification.py:1308: UndefinedMetricWarning: Precision and F-score are ill-defined and being set to 0.0 in labels with no predicted samples. Use `zero_division` parameter to control this behavior.\n",
      "  _warn_prf(average, modifier, msg_start, len(result))\n",
      "/Library/Frameworks/Python.framework/Versions/3.9/lib/python3.9/site-packages/sklearn/metrics/_classification.py:1308: UndefinedMetricWarning: Precision and F-score are ill-defined and being set to 0.0 in labels with no predicted samples. Use `zero_division` parameter to control this behavior.\n",
      "  _warn_prf(average, modifier, msg_start, len(result))\n",
      "/Library/Frameworks/Python.framework/Versions/3.9/lib/python3.9/site-packages/sklearn/metrics/_classification.py:1308: UndefinedMetricWarning: Precision and F-score are ill-defined and being set to 0.0 in labels with no predicted samples. Use `zero_division` parameter to control this behavior.\n",
      "  _warn_prf(average, modifier, msg_start, len(result))\n"
     ]
    },
    {
     "name": "stdout",
     "output_type": "stream",
     "text": [
      "Accuracy on training data = 0.580653\n",
      "[[182 136   1]\n",
      " [ 89 312  29]\n",
      " [  8 153  70]]\n",
      "              precision    recall  f1-score   support\n",
      "\n",
      "         0.0       0.65      0.57      0.61       319\n",
      "         1.0       0.52      0.73      0.61       430\n",
      "         2.0       0.70      0.30      0.42       231\n",
      "\n",
      "    accuracy                           0.58       980\n",
      "   macro avg       0.62      0.53      0.55       980\n",
      "weighted avg       0.61      0.58      0.56       980\n",
      "\n",
      "Accuracy on test data = 0.575510\n",
      "Accuracy on training data = 0.577080\n",
      "[[177 139   3]\n",
      " [ 88 306  36]\n",
      " [  8 147  76]]\n",
      "              precision    recall  f1-score   support\n",
      "\n",
      "         0.0       0.65      0.55      0.60       319\n",
      "         1.0       0.52      0.71      0.60       430\n",
      "         2.0       0.66      0.33      0.44       231\n",
      "\n",
      "    accuracy                           0.57       980\n",
      "   macro avg       0.61      0.53      0.55       980\n",
      "weighted avg       0.59      0.57      0.56       980\n",
      "\n",
      "Accuracy on test data = 0.570408\n",
      "Accuracy on training data = 0.577080\n",
      "[[177 138   4]\n",
      " [ 88 307  35]\n",
      " [  8 148  75]]\n",
      "              precision    recall  f1-score   support\n",
      "\n",
      "         0.0       0.65      0.55      0.60       319\n",
      "         1.0       0.52      0.71      0.60       430\n",
      "         2.0       0.66      0.32      0.43       231\n",
      "\n",
      "    accuracy                           0.57       980\n",
      "   macro avg       0.61      0.53      0.54       980\n",
      "weighted avg       0.59      0.57      0.56       980\n",
      "\n",
      "Accuracy on test data = 0.570408\n"
     ]
    },
    {
     "data": {
      "text/plain": "<Figure size 432x288 with 1 Axes>",
      "image/png": "[encoded data removed]"
     },
     "metadata": {
      "needs_background": "light"
     },
     "output_type": "display_data"
    },
    {
     "name": "stdout",
     "output_type": "stream",
     "text": [
      "Accuracy on training data = 0.464523\n",
      "[[ 17 302   0]\n",
      " [  5 425   0]\n",
      " [  0 231   0]]\n",
      "              precision    recall  f1-score   support\n",
      "\n",
      "         0.0       0.77      0.05      0.10       319\n",
      "         1.0       0.44      0.99      0.61       430\n",
      "         2.0       0.00      0.00      0.00       231\n",
      "\n",
      "    accuracy                           0.45       980\n",
      "   macro avg       0.41      0.35      0.24       980\n",
      "weighted avg       0.45      0.45      0.30       980\n",
      "\n",
      "Accuracy on test data = 0.451020\n",
      "Accuracy on training data = 0.551812\n",
      "[[152 166   1]\n",
      " [ 75 350   5]\n",
      " [ 14 209   8]]\n",
      "              precision    recall  f1-score   support\n",
      "\n",
      "         0.0       0.63      0.48      0.54       319\n",
      "         1.0       0.48      0.81      0.61       430\n",
      "         2.0       0.57      0.03      0.07       231\n",
      "\n",
      "    accuracy                           0.52       980\n",
      "   macro avg       0.56      0.44      0.40       980\n",
      "weighted avg       0.55      0.52      0.46       980\n",
      "\n",
      "Accuracy on test data = 0.520408\n",
      "Accuracy on training data = 0.579888\n",
      "[[178 140   1]\n",
      " [ 87 320  23]\n",
      " [  8 159  64]]\n",
      "              precision    recall  f1-score   support\n",
      "\n",
      "         0.0       0.65      0.56      0.60       319\n",
      "         1.0       0.52      0.74      0.61       430\n",
      "         2.0       0.73      0.28      0.40       231\n",
      "\n",
      "    accuracy                           0.57       980\n",
      "   macro avg       0.63      0.53      0.54       980\n",
      "weighted avg       0.61      0.57      0.56       980\n",
      "\n",
      "Accuracy on test data = 0.573469\n",
      "Accuracy on training data = 0.576059\n",
      "[[180 136   3]\n",
      " [ 89 306  35]\n",
      " [  8 146  77]]\n",
      "              precision    recall  f1-score   support\n",
      "\n",
      "         0.0       0.65      0.56      0.60       319\n",
      "         1.0       0.52      0.71      0.60       430\n",
      "         2.0       0.67      0.33      0.45       231\n",
      "\n",
      "    accuracy                           0.57       980\n",
      "   macro avg       0.61      0.54      0.55       980\n",
      "weighted avg       0.60      0.57      0.57       980\n",
      "\n",
      "Accuracy on test data = 0.574490\n",
      "Accuracy on training data = 0.576059\n",
      "[[177 139   3]\n",
      " [ 88 305  37]\n",
      " [  8 147  76]]\n",
      "              precision    recall  f1-score   support\n",
      "\n",
      "         0.0       0.65      0.55      0.60       319\n",
      "         1.0       0.52      0.71      0.60       430\n",
      "         2.0       0.66      0.33      0.44       231\n",
      "\n",
      "    accuracy                           0.57       980\n",
      "   macro avg       0.61      0.53      0.54       980\n",
      "weighted avg       0.59      0.57      0.56       980\n",
      "\n",
      "Accuracy on test data = 0.569388\n"
     ]
    },
    {
     "name": "stderr",
     "output_type": "stream",
     "text": [
      "/Library/Frameworks/Python.framework/Versions/3.9/lib/python3.9/site-packages/sklearn/metrics/_classification.py:1308: UndefinedMetricWarning: Precision and F-score are ill-defined and being set to 0.0 in labels with no predicted samples. Use `zero_division` parameter to control this behavior.\n",
      "  _warn_prf(average, modifier, msg_start, len(result))\n",
      "/Library/Frameworks/Python.framework/Versions/3.9/lib/python3.9/site-packages/sklearn/metrics/_classification.py:1308: UndefinedMetricWarning: Precision and F-score are ill-defined and being set to 0.0 in labels with no predicted samples. Use `zero_division` parameter to control this behavior.\n",
      "  _warn_prf(average, modifier, msg_start, len(result))\n",
      "/Library/Frameworks/Python.framework/Versions/3.9/lib/python3.9/site-packages/sklearn/metrics/_classification.py:1308: UndefinedMetricWarning: Precision and F-score are ill-defined and being set to 0.0 in labels with no predicted samples. Use `zero_division` parameter to control this behavior.\n",
      "  _warn_prf(average, modifier, msg_start, len(result))\n"
     ]
    },
    {
     "name": "stdout",
     "output_type": "stream",
     "text": [
      "Accuracy on training data = 0.577080\n",
      "[[177 138   4]\n",
      " [ 88 307  35]\n",
      " [  8 148  75]]\n",
      "              precision    recall  f1-score   support\n",
      "\n",
      "         0.0       0.65      0.55      0.60       319\n",
      "         1.0       0.52      0.71      0.60       430\n",
      "         2.0       0.66      0.32      0.43       231\n",
      "\n",
      "    accuracy                           0.57       980\n",
      "   macro avg       0.61      0.53      0.54       980\n",
      "weighted avg       0.59      0.57      0.56       980\n",
      "\n",
      "Accuracy on test data = 0.570408\n"
     ]
    },
    {
     "data": {
      "text/plain": "<Figure size 432x288 with 1 Axes>",
      "image/png": "[encoded data removed]"
     },
     "metadata": {
      "needs_background": "light"
     },
     "output_type": "display_data"
    }
   ],
   "source": [
    "train_and_plot(X_train, y_train, X_test, y_test)"
   ],
   "metadata": {
    "collapsed": false,
    "pycharm": {
     "name": "#%%\n"
    }
   }
  },
  {
   "cell_type": "code",
   "execution_count": 65,
   "outputs": [
    {
     "name": "stdout",
     "output_type": "stream",
     "text": [
      "Accuracy on training data = 0.451251\n",
      "[[  0 319   0]\n",
      " [  0 430   0]\n",
      " [  0 231   0]]\n",
      "              precision    recall  f1-score   support\n",
      "\n",
      "         0.0       0.00      0.00      0.00       319\n",
      "         1.0       0.44      1.00      0.61       430\n",
      "         2.0       0.00      0.00      0.00       231\n",
      "\n",
      "    accuracy                           0.44       980\n",
      "   macro avg       0.15      0.33      0.20       980\n",
      "weighted avg       0.19      0.44      0.27       980\n",
      "\n",
      "Accuracy on test data = 0.438776\n",
      "Accuracy on training data = 0.451251\n",
      "[[  0 319   0]\n",
      " [  0 430   0]\n",
      " [  0 231   0]]\n",
      "              precision    recall  f1-score   support\n",
      "\n",
      "         0.0       0.00      0.00      0.00       319\n",
      "         1.0       0.44      1.00      0.61       430\n",
      "         2.0       0.00      0.00      0.00       231\n",
      "\n",
      "    accuracy                           0.44       980\n",
      "   macro avg       0.15      0.33      0.20       980\n",
      "weighted avg       0.19      0.44      0.27       980\n",
      "\n",
      "Accuracy on test data = 0.438776\n"
     ]
    },
    {
     "name": "stderr",
     "output_type": "stream",
     "text": [
      "/Library/Frameworks/Python.framework/Versions/3.9/lib/python3.9/site-packages/sklearn/metrics/_classification.py:1308: UndefinedMetricWarning: Precision and F-score are ill-defined and being set to 0.0 in labels with no predicted samples. Use `zero_division` parameter to control this behavior.\n",
      "  _warn_prf(average, modifier, msg_start, len(result))\n",
      "/Library/Frameworks/Python.framework/Versions/3.9/lib/python3.9/site-packages/sklearn/metrics/_classification.py:1308: UndefinedMetricWarning: Precision and F-score are ill-defined and being set to 0.0 in labels with no predicted samples. Use `zero_division` parameter to control this behavior.\n",
      "  _warn_prf(average, modifier, msg_start, len(result))\n",
      "/Library/Frameworks/Python.framework/Versions/3.9/lib/python3.9/site-packages/sklearn/metrics/_classification.py:1308: UndefinedMetricWarning: Precision and F-score are ill-defined and being set to 0.0 in labels with no predicted samples. Use `zero_division` parameter to control this behavior.\n",
      "  _warn_prf(average, modifier, msg_start, len(result))\n",
      "/Library/Frameworks/Python.framework/Versions/3.9/lib/python3.9/site-packages/sklearn/metrics/_classification.py:1308: UndefinedMetricWarning: Precision and F-score are ill-defined and being set to 0.0 in labels with no predicted samples. Use `zero_division` parameter to control this behavior.\n",
      "  _warn_prf(average, modifier, msg_start, len(result))\n",
      "/Library/Frameworks/Python.framework/Versions/3.9/lib/python3.9/site-packages/sklearn/metrics/_classification.py:1308: UndefinedMetricWarning: Precision and F-score are ill-defined and being set to 0.0 in labels with no predicted samples. Use `zero_division` parameter to control this behavior.\n",
      "  _warn_prf(average, modifier, msg_start, len(result))\n",
      "/Library/Frameworks/Python.framework/Versions/3.9/lib/python3.9/site-packages/sklearn/metrics/_classification.py:1308: UndefinedMetricWarning: Precision and F-score are ill-defined and being set to 0.0 in labels with no predicted samples. Use `zero_division` parameter to control this behavior.\n",
      "  _warn_prf(average, modifier, msg_start, len(result))\n"
     ]
    },
    {
     "name": "stdout",
     "output_type": "stream",
     "text": [
      "Accuracy on training data = 0.568913\n",
      "[[184 133   2]\n",
      " [102 299  29]\n",
      " [  9 161  61]]\n",
      "              precision    recall  f1-score   support\n",
      "\n",
      "         0.0       0.62      0.58      0.60       319\n",
      "         1.0       0.50      0.70      0.58       430\n",
      "         2.0       0.66      0.26      0.38       231\n",
      "\n",
      "    accuracy                           0.56       980\n",
      "   macro avg       0.60      0.51      0.52       980\n",
      "weighted avg       0.58      0.56      0.54       980\n",
      "\n",
      "Accuracy on test data = 0.555102\n",
      "Accuracy on training data = 0.612302\n",
      "[[192 124   3]\n",
      " [ 97 289  44]\n",
      " [ 11 130  90]]\n",
      "              precision    recall  f1-score   support\n",
      "\n",
      "         0.0       0.64      0.60      0.62       319\n",
      "         1.0       0.53      0.67      0.59       430\n",
      "         2.0       0.66      0.39      0.49       231\n",
      "\n",
      "    accuracy                           0.58       980\n",
      "   macro avg       0.61      0.55      0.57       980\n",
      "weighted avg       0.60      0.58      0.58       980\n",
      "\n",
      "Accuracy on test data = 0.582653\n",
      "Accuracy on training data = 0.614344\n",
      "[[195 121   3]\n",
      " [ 97 284  49]\n",
      " [ 12 125  94]]\n",
      "              precision    recall  f1-score   support\n",
      "\n",
      "         0.0       0.64      0.61      0.63       319\n",
      "         1.0       0.54      0.66      0.59       430\n",
      "         2.0       0.64      0.41      0.50       231\n",
      "\n",
      "    accuracy                           0.58       980\n",
      "   macro avg       0.61      0.56      0.57       980\n",
      "weighted avg       0.60      0.58      0.58       980\n",
      "\n",
      "Accuracy on test data = 0.584694\n",
      "Accuracy on training data = 0.614855\n",
      "[[194 124   1]\n",
      " [ 98 284  48]\n",
      " [ 12 122  97]]\n",
      "              precision    recall  f1-score   support\n",
      "\n",
      "         0.0       0.64      0.61      0.62       319\n",
      "         1.0       0.54      0.66      0.59       430\n",
      "         2.0       0.66      0.42      0.51       231\n",
      "\n",
      "    accuracy                           0.59       980\n",
      "   macro avg       0.61      0.56      0.58       980\n",
      "weighted avg       0.60      0.59      0.58       980\n",
      "\n",
      "Accuracy on test data = 0.586735\n"
     ]
    },
    {
     "data": {
      "text/plain": "<Figure size 432x288 with 1 Axes>",
      "image/png": "[encoded data removed]"
     },
     "metadata": {
      "needs_background": "light"
     },
     "output_type": "display_data"
    },
    {
     "name": "stdout",
     "output_type": "stream",
     "text": [
      "Accuracy on training data = 0.501787\n",
      "[[ 58 261   0]\n",
      " [ 29 399   2]\n",
      " [  0 221  10]]\n",
      "              precision    recall  f1-score   support\n",
      "\n",
      "         0.0       0.67      0.18      0.29       319\n",
      "         1.0       0.45      0.93      0.61       430\n",
      "         2.0       0.83      0.04      0.08       231\n",
      "\n",
      "    accuracy                           0.48       980\n",
      "   macro avg       0.65      0.38      0.33       980\n",
      "weighted avg       0.61      0.48      0.38       980\n",
      "\n",
      "Accuracy on test data = 0.476531\n",
      "Accuracy on training data = 0.589587\n",
      "[[160 158   1]\n",
      " [ 79 323  28]\n",
      " [  9 160  62]]\n",
      "              precision    recall  f1-score   support\n",
      "\n",
      "         0.0       0.65      0.50      0.56       319\n",
      "         1.0       0.50      0.75      0.60       430\n",
      "         2.0       0.68      0.27      0.39       231\n",
      "\n",
      "    accuracy                           0.56       980\n",
      "   macro avg       0.61      0.51      0.52       980\n",
      "weighted avg       0.59      0.56      0.54       980\n",
      "\n",
      "Accuracy on test data = 0.556122\n",
      "Accuracy on training data = 0.612047\n",
      "[[186 132   1]\n",
      " [ 94 291  45]\n",
      " [ 11 134  86]]\n",
      "              precision    recall  f1-score   support\n",
      "\n",
      "         0.0       0.64      0.58      0.61       319\n",
      "         1.0       0.52      0.68      0.59       430\n",
      "         2.0       0.65      0.37      0.47       231\n",
      "\n",
      "    accuracy                           0.57       980\n",
      "   macro avg       0.60      0.54      0.56       980\n",
      "weighted avg       0.59      0.57      0.57       980\n",
      "\n",
      "Accuracy on test data = 0.574490\n",
      "Accuracy on training data = 0.614599\n",
      "[[195 123   1]\n",
      " [ 97 285  48]\n",
      " [ 12 124  95]]\n",
      "              precision    recall  f1-score   support\n",
      "\n",
      "         0.0       0.64      0.61      0.63       319\n",
      "         1.0       0.54      0.66      0.59       430\n",
      "         2.0       0.66      0.41      0.51       231\n",
      "\n",
      "    accuracy                           0.59       980\n",
      "   macro avg       0.61      0.56      0.58       980\n",
      "weighted avg       0.60      0.59      0.58       980\n",
      "\n",
      "Accuracy on test data = 0.586735\n",
      "Accuracy on training data = 0.617152\n",
      "[[193 125   1]\n",
      " [ 98 285  47]\n",
      " [ 12 123  96]]\n",
      "              precision    recall  f1-score   support\n",
      "\n",
      "         0.0       0.64      0.61      0.62       319\n",
      "         1.0       0.53      0.66      0.59       430\n",
      "         2.0       0.67      0.42      0.51       231\n",
      "\n",
      "    accuracy                           0.59       980\n",
      "   macro avg       0.61      0.56      0.57       980\n",
      "weighted avg       0.60      0.59      0.58       980\n",
      "\n",
      "Accuracy on test data = 0.585714\n",
      "Accuracy on training data = 0.618938\n",
      "[[193 125   1]\n",
      " [100 282  48]\n",
      " [ 11 125  95]]\n",
      "              precision    recall  f1-score   support\n",
      "\n",
      "         0.0       0.63      0.61      0.62       319\n",
      "         1.0       0.53      0.66      0.59       430\n",
      "         2.0       0.66      0.41      0.51       231\n",
      "\n",
      "    accuracy                           0.58       980\n",
      "   macro avg       0.61      0.56      0.57       980\n",
      "weighted avg       0.59      0.58      0.58       980\n",
      "\n",
      "Accuracy on test data = 0.581633\n"
     ]
    },
    {
     "data": {
      "text/plain": "<Figure size 432x288 with 1 Axes>",
      "image/png": "[encoded data removed]"
     },
     "metadata": {
      "needs_background": "light"
     },
     "output_type": "display_data"
    }
   ],
   "source": [
    "X_transformed_train = poly.fit_transform(X_train)\n",
    "X_transformed_test = poly.fit_transform(X_test)\n",
    "train_and_plot(X_transformed_train, y_train, X_transformed_test, y_test)"
   ],
   "metadata": {
    "collapsed": false,
    "pycharm": {
     "name": "#%%\n"
    }
   }
  },
  {
   "cell_type": "markdown",
   "source": [
    "# Train All Wines Data"
   ],
   "metadata": {
    "collapsed": false,
    "pycharm": {
     "name": "#%% md\n"
    }
   }
  },
  {
   "cell_type": "code",
   "execution_count": 66,
   "outputs": [
    {
     "name": "stdout",
     "output_type": "stream",
     "text": [
      "Original y hist: (array([  30,  216, 2138, 2836, 1079,  198]), array([0, 1, 2, 3, 4, 5, 6]))\n",
      "Current y hist: (array([2384, 2836, 1277]), array([-0.5,  0.5,  1.5,  2.5]))\n",
      "y min: 0.0, y max: 2.0\n",
      "The shape of the wines dataset:\n",
      "(6497, 12)\n",
      "[2. 1. 1. 0. 2. 1. 2. 1. 1. 0.]\n",
      "[[6.4000e+00 1.0500e-01 2.9000e-01 1.1000e+00 3.5000e-02 4.4000e+01\n",
      "  1.4000e+02 9.9142e-01 3.1700e+00 5.5000e-01 1.0700e+01]\n",
      " [6.2000e+00 2.7000e-01 4.9000e-01 1.4000e+00 5.0000e-02 2.0000e+01\n",
      "  7.4000e+01 9.9310e-01 3.3200e+00 4.4000e-01 9.8000e+00]\n",
      " [6.1000e+00 2.8000e-01 2.5000e-01 6.9000e+00 5.6000e-02 4.4000e+01\n",
      "  2.0100e+02 9.9550e-01 3.1900e+00 4.0000e-01 9.1000e+00]\n",
      " [5.3000e+00 4.7000e-01 1.0000e-01 1.3000e+00 3.6000e-02 1.1000e+01\n",
      "  7.4000e+01 9.9082e-01 3.4800e+00 5.4000e-01 1.1200e+01]\n",
      " [6.5000e+00 2.3000e-01 3.9000e-01 1.9000e+00 3.6000e-02 4.1000e+01\n",
      "  9.8000e+01 9.9000e-01 3.1900e+00 4.3000e-01 1.1900e+01]\n",
      " [6.7000e+00 3.7000e-01 2.5000e-01 2.5000e+00 2.8000e-02 2.4000e+01\n",
      "  8.4000e+01 9.9090e-01 3.1400e+00 3.6000e-01 1.1700e+01]\n",
      " [7.4000e+00 1.6000e-01 3.0000e-01 1.3700e+01 5.6000e-02 3.3000e+01\n",
      "  1.6800e+02 9.9825e-01 2.9000e+00 4.4000e-01 8.7000e+00]\n",
      " [6.6000e+00 7.2500e-01 9.0000e-02 5.5000e+00 1.1700e-01 9.0000e+00\n",
      "  1.7000e+01 9.9655e-01 3.3500e+00 4.9000e-01 1.0800e+01]\n",
      " [7.8000e+00 2.0000e-01 2.0000e-01 1.4000e+00 3.6000e-02 2.5000e+01\n",
      "  8.3000e+01 9.9088e-01 3.0300e+00 4.6000e-01 1.1700e+01]\n",
      " [9.0000e+00 6.9000e-01 0.0000e+00 2.4000e+00 8.8000e-02 1.9000e+01\n",
      "  3.8000e+01 9.9900e-01 3.3500e+00 6.0000e-01 9.3000e+00]]\n",
      "[[-0.62893288 -1.42546822 -0.19705367 ... -0.3016694   0.12588995\n",
      "   0.17457294]\n",
      " [-0.78321411 -0.42318303  1.17934553 ...  0.63131247 -0.61338508\n",
      "  -0.58006813]\n",
      " [-0.86035472 -0.36243847 -0.47233351 ... -0.17727182 -0.88221236\n",
      "  -1.16701119]\n",
      " ...\n",
      " [-0.08894858 -0.6054167   0.14704613 ... -0.3638682  -0.47897144\n",
      "   0.59381798]\n",
      " [-1.70890148 -0.24094936  0.07822617 ...  0.88010764 -1.55428057\n",
      "   2.10310012]\n",
      " [ 0.60531695 -0.05871569  1.45462537 ...  0.94230643  1.80606047\n",
      "  -0.74776615]]\n"
     ]
    }
   ],
   "source": [
    "X_train, y_train, X_test, y_test = transform_and_split_data(data_all)"
   ],
   "metadata": {
    "collapsed": false,
    "pycharm": {
     "name": "#%%\n"
    }
   }
  },
  {
   "cell_type": "code",
   "execution_count": 67,
   "outputs": [
    {
     "name": "stdout",
     "output_type": "stream",
     "text": [
      "Accuracy on training data = 0.425053\n",
      "[[  0 447   0]\n",
      " [  0 627   0]\n",
      " [  0 226   0]]\n",
      "              precision    recall  f1-score   support\n",
      "\n",
      "         0.0       0.00      0.00      0.00       447\n",
      "         1.0       0.48      1.00      0.65       627\n",
      "         2.0       0.00      0.00      0.00       226\n",
      "\n",
      "    accuracy                           0.48      1300\n",
      "   macro avg       0.16      0.33      0.22      1300\n",
      "weighted avg       0.23      0.48      0.31      1300\n",
      "\n",
      "Accuracy on test data = 0.482308\n",
      "Accuracy on training data = 0.425053\n",
      "[[  0 447   0]\n",
      " [  0 627   0]\n",
      " [  0 226   0]]\n",
      "              precision    recall  f1-score   support\n",
      "\n",
      "         0.0       0.00      0.00      0.00       447\n",
      "         1.0       0.48      1.00      0.65       627\n",
      "         2.0       0.00      0.00      0.00       226\n",
      "\n",
      "    accuracy                           0.48      1300\n",
      "   macro avg       0.16      0.33      0.22      1300\n",
      "weighted avg       0.23      0.48      0.31      1300\n",
      "\n",
      "Accuracy on test data = 0.482308\n",
      "Accuracy on training data = 0.558784\n",
      "[[295 145   7]\n",
      " [195 389  43]\n",
      " [ 24 150  52]]\n",
      "              precision    recall  f1-score   support\n",
      "\n",
      "         0.0       0.57      0.66      0.61       447\n",
      "         1.0       0.57      0.62      0.59       627\n",
      "         2.0       0.51      0.23      0.32       226\n",
      "\n",
      "    accuracy                           0.57      1300\n",
      "   macro avg       0.55      0.50      0.51      1300\n",
      "weighted avg       0.56      0.57      0.55      1300\n",
      "\n",
      "Accuracy on test data = 0.566154\n"
     ]
    },
    {
     "name": "stderr",
     "output_type": "stream",
     "text": [
      "/Library/Frameworks/Python.framework/Versions/3.9/lib/python3.9/site-packages/sklearn/metrics/_classification.py:1308: UndefinedMetricWarning: Precision and F-score are ill-defined and being set to 0.0 in labels with no predicted samples. Use `zero_division` parameter to control this behavior.\n",
      "  _warn_prf(average, modifier, msg_start, len(result))\n",
      "/Library/Frameworks/Python.framework/Versions/3.9/lib/python3.9/site-packages/sklearn/metrics/_classification.py:1308: UndefinedMetricWarning: Precision and F-score are ill-defined and being set to 0.0 in labels with no predicted samples. Use `zero_division` parameter to control this behavior.\n",
      "  _warn_prf(average, modifier, msg_start, len(result))\n",
      "/Library/Frameworks/Python.framework/Versions/3.9/lib/python3.9/site-packages/sklearn/metrics/_classification.py:1308: UndefinedMetricWarning: Precision and F-score are ill-defined and being set to 0.0 in labels with no predicted samples. Use `zero_division` parameter to control this behavior.\n",
      "  _warn_prf(average, modifier, msg_start, len(result))\n",
      "/Library/Frameworks/Python.framework/Versions/3.9/lib/python3.9/site-packages/sklearn/metrics/_classification.py:1308: UndefinedMetricWarning: Precision and F-score are ill-defined and being set to 0.0 in labels with no predicted samples. Use `zero_division` parameter to control this behavior.\n",
      "  _warn_prf(average, modifier, msg_start, len(result))\n",
      "/Library/Frameworks/Python.framework/Versions/3.9/lib/python3.9/site-packages/sklearn/metrics/_classification.py:1308: UndefinedMetricWarning: Precision and F-score are ill-defined and being set to 0.0 in labels with no predicted samples. Use `zero_division` parameter to control this behavior.\n",
      "  _warn_prf(average, modifier, msg_start, len(result))\n",
      "/Library/Frameworks/Python.framework/Versions/3.9/lib/python3.9/site-packages/sklearn/metrics/_classification.py:1308: UndefinedMetricWarning: Precision and F-score are ill-defined and being set to 0.0 in labels with no predicted samples. Use `zero_division` parameter to control this behavior.\n",
      "  _warn_prf(average, modifier, msg_start, len(result))\n"
     ]
    },
    {
     "name": "stdout",
     "output_type": "stream",
     "text": [
      "Accuracy on training data = 0.577833\n",
      "[[302 139   6]\n",
      " [176 387  64]\n",
      " [ 20 133  73]]\n",
      "              precision    recall  f1-score   support\n",
      "\n",
      "         0.0       0.61      0.68      0.64       447\n",
      "         1.0       0.59      0.62      0.60       627\n",
      "         2.0       0.51      0.32      0.40       226\n",
      "\n",
      "    accuracy                           0.59      1300\n",
      "   macro avg       0.57      0.54      0.55      1300\n",
      "weighted avg       0.58      0.59      0.58      1300\n",
      "\n",
      "Accuracy on test data = 0.586154\n",
      "Accuracy on training data = 0.576294\n",
      "[[301 139   7]\n",
      " [173 388  66]\n",
      " [ 19 131  76]]\n",
      "              precision    recall  f1-score   support\n",
      "\n",
      "         0.0       0.61      0.67      0.64       447\n",
      "         1.0       0.59      0.62      0.60       627\n",
      "         2.0       0.51      0.34      0.41       226\n",
      "\n",
      "    accuracy                           0.59      1300\n",
      "   macro avg       0.57      0.54      0.55      1300\n",
      "weighted avg       0.58      0.59      0.58      1300\n",
      "\n",
      "Accuracy on test data = 0.588462\n",
      "Accuracy on training data = 0.575909\n",
      "[[301 139   7]\n",
      " [173 389  65]\n",
      " [ 19 129  78]]\n",
      "              precision    recall  f1-score   support\n",
      "\n",
      "         0.0       0.61      0.67      0.64       447\n",
      "         1.0       0.59      0.62      0.61       627\n",
      "         2.0       0.52      0.35      0.41       226\n",
      "\n",
      "    accuracy                           0.59      1300\n",
      "   macro avg       0.57      0.55      0.55      1300\n",
      "weighted avg       0.59      0.59      0.58      1300\n",
      "\n",
      "Accuracy on test data = 0.590769\n"
     ]
    },
    {
     "data": {
      "text/plain": "<Figure size 432x288 with 1 Axes>",
      "image/png": "[encoded data removed]"
     },
     "metadata": {
      "needs_background": "light"
     },
     "output_type": "display_data"
    },
    {
     "name": "stdout",
     "output_type": "stream",
     "text": [
      "Accuracy on training data = 0.511641\n",
      "[[187 260   0]\n",
      " [101 526   0]\n",
      " [  9 217   0]]\n",
      "              precision    recall  f1-score   support\n",
      "\n",
      "         0.0       0.63      0.42      0.50       447\n",
      "         1.0       0.52      0.84      0.65       627\n",
      "         2.0       0.00      0.00      0.00       226\n",
      "\n",
      "    accuracy                           0.55      1300\n",
      "   macro avg       0.38      0.42      0.38      1300\n",
      "weighted avg       0.47      0.55      0.48      1300\n",
      "\n",
      "Accuracy on test data = 0.548462\n",
      "Accuracy on training data = 0.559554\n",
      "[[298 149   0]\n",
      " [187 428  12]\n",
      " [ 23 181  22]]\n",
      "              precision    recall  f1-score   support\n",
      "\n",
      "         0.0       0.59      0.67      0.62       447\n",
      "         1.0       0.56      0.68      0.62       627\n",
      "         2.0       0.65      0.10      0.17       226\n",
      "\n",
      "    accuracy                           0.58      1300\n",
      "   macro avg       0.60      0.48      0.47      1300\n",
      "weighted avg       0.59      0.58      0.54      1300\n",
      "\n",
      "Accuracy on test data = 0.575385\n",
      "Accuracy on training data = 0.577256\n",
      "[[300 141   6]\n",
      " [176 392  59]\n",
      " [ 21 134  71]]\n",
      "              precision    recall  f1-score   support\n",
      "\n",
      "         0.0       0.60      0.67      0.64       447\n",
      "         1.0       0.59      0.63      0.61       627\n",
      "         2.0       0.52      0.31      0.39       226\n",
      "\n",
      "    accuracy                           0.59      1300\n",
      "   macro avg       0.57      0.54      0.54      1300\n",
      "weighted avg       0.58      0.59      0.58      1300\n",
      "\n",
      "Accuracy on test data = 0.586923\n",
      "Accuracy on training data = 0.575524\n",
      "[[302 138   7]\n",
      " [174 388  65]\n",
      " [ 19 132  75]]\n",
      "              precision    recall  f1-score   support\n",
      "\n",
      "         0.0       0.61      0.68      0.64       447\n",
      "         1.0       0.59      0.62      0.60       627\n",
      "         2.0       0.51      0.33      0.40       226\n",
      "\n",
      "    accuracy                           0.59      1300\n",
      "   macro avg       0.57      0.54      0.55      1300\n",
      "weighted avg       0.58      0.59      0.58      1300\n",
      "\n",
      "Accuracy on test data = 0.588462\n"
     ]
    },
    {
     "name": "stderr",
     "output_type": "stream",
     "text": [
      "/Library/Frameworks/Python.framework/Versions/3.9/lib/python3.9/site-packages/sklearn/metrics/_classification.py:1308: UndefinedMetricWarning: Precision and F-score are ill-defined and being set to 0.0 in labels with no predicted samples. Use `zero_division` parameter to control this behavior.\n",
      "  _warn_prf(average, modifier, msg_start, len(result))\n",
      "/Library/Frameworks/Python.framework/Versions/3.9/lib/python3.9/site-packages/sklearn/metrics/_classification.py:1308: UndefinedMetricWarning: Precision and F-score are ill-defined and being set to 0.0 in labels with no predicted samples. Use `zero_division` parameter to control this behavior.\n",
      "  _warn_prf(average, modifier, msg_start, len(result))\n",
      "/Library/Frameworks/Python.framework/Versions/3.9/lib/python3.9/site-packages/sklearn/metrics/_classification.py:1308: UndefinedMetricWarning: Precision and F-score are ill-defined and being set to 0.0 in labels with no predicted samples. Use `zero_division` parameter to control this behavior.\n",
      "  _warn_prf(average, modifier, msg_start, len(result))\n"
     ]
    },
    {
     "name": "stdout",
     "output_type": "stream",
     "text": [
      "Accuracy on training data = 0.576102\n",
      "[[301 139   7]\n",
      " [173 389  65]\n",
      " [ 19 129  78]]\n",
      "              precision    recall  f1-score   support\n",
      "\n",
      "         0.0       0.61      0.67      0.64       447\n",
      "         1.0       0.59      0.62      0.61       627\n",
      "         2.0       0.52      0.35      0.41       226\n",
      "\n",
      "    accuracy                           0.59      1300\n",
      "   macro avg       0.57      0.55      0.55      1300\n",
      "weighted avg       0.59      0.59      0.58      1300\n",
      "\n",
      "Accuracy on test data = 0.590769\n",
      "Accuracy on training data = 0.576102\n",
      "[[301 139   7]\n",
      " [173 389  65]\n",
      " [ 19 129  78]]\n",
      "              precision    recall  f1-score   support\n",
      "\n",
      "         0.0       0.61      0.67      0.64       447\n",
      "         1.0       0.59      0.62      0.61       627\n",
      "         2.0       0.52      0.35      0.41       226\n",
      "\n",
      "    accuracy                           0.59      1300\n",
      "   macro avg       0.57      0.55      0.55      1300\n",
      "weighted avg       0.59      0.59      0.58      1300\n",
      "\n",
      "Accuracy on test data = 0.590769\n"
     ]
    },
    {
     "data": {
      "text/plain": "<Figure size 432x288 with 1 Axes>",
      "image/png": "[encoded data removed]"
     },
     "metadata": {
      "needs_background": "light"
     },
     "output_type": "display_data"
    }
   ],
   "source": [
    "train_and_plot(X_train, y_train, X_test, y_test)"
   ],
   "metadata": {
    "collapsed": false,
    "pycharm": {
     "name": "#%%\n"
    }
   }
  },
  {
   "cell_type": "code",
   "execution_count": 68,
   "outputs": [
    {
     "name": "stdout",
     "output_type": "stream",
     "text": [
      "Accuracy on training data = 0.425053\n",
      "[[  0 447   0]\n",
      " [  0 627   0]\n",
      " [  0 226   0]]\n",
      "              precision    recall  f1-score   support\n",
      "\n",
      "         0.0       0.00      0.00      0.00       447\n",
      "         1.0       0.48      1.00      0.65       627\n",
      "         2.0       0.00      0.00      0.00       226\n",
      "\n",
      "    accuracy                           0.48      1300\n",
      "   macro avg       0.16      0.33      0.22      1300\n",
      "weighted avg       0.23      0.48      0.31      1300\n",
      "\n",
      "Accuracy on test data = 0.482308\n"
     ]
    },
    {
     "name": "stderr",
     "output_type": "stream",
     "text": [
      "/Library/Frameworks/Python.framework/Versions/3.9/lib/python3.9/site-packages/sklearn/metrics/_classification.py:1308: UndefinedMetricWarning: Precision and F-score are ill-defined and being set to 0.0 in labels with no predicted samples. Use `zero_division` parameter to control this behavior.\n",
      "  _warn_prf(average, modifier, msg_start, len(result))\n",
      "/Library/Frameworks/Python.framework/Versions/3.9/lib/python3.9/site-packages/sklearn/metrics/_classification.py:1308: UndefinedMetricWarning: Precision and F-score are ill-defined and being set to 0.0 in labels with no predicted samples. Use `zero_division` parameter to control this behavior.\n",
      "  _warn_prf(average, modifier, msg_start, len(result))\n",
      "/Library/Frameworks/Python.framework/Versions/3.9/lib/python3.9/site-packages/sklearn/metrics/_classification.py:1308: UndefinedMetricWarning: Precision and F-score are ill-defined and being set to 0.0 in labels with no predicted samples. Use `zero_division` parameter to control this behavior.\n",
      "  _warn_prf(average, modifier, msg_start, len(result))\n"
     ]
    },
    {
     "name": "stdout",
     "output_type": "stream",
     "text": [
      "Accuracy on training data = 0.425053\n",
      "[[  0 447   0]\n",
      " [  0 627   0]\n",
      " [  0 226   0]]\n",
      "              precision    recall  f1-score   support\n",
      "\n",
      "         0.0       0.00      0.00      0.00       447\n",
      "         1.0       0.48      1.00      0.65       627\n",
      "         2.0       0.00      0.00      0.00       226\n",
      "\n",
      "    accuracy                           0.48      1300\n",
      "   macro avg       0.16      0.33      0.22      1300\n",
      "weighted avg       0.23      0.48      0.31      1300\n",
      "\n",
      "Accuracy on test data = 0.482308\n"
     ]
    },
    {
     "name": "stderr",
     "output_type": "stream",
     "text": [
      "/Library/Frameworks/Python.framework/Versions/3.9/lib/python3.9/site-packages/sklearn/metrics/_classification.py:1308: UndefinedMetricWarning: Precision and F-score are ill-defined and being set to 0.0 in labels with no predicted samples. Use `zero_division` parameter to control this behavior.\n",
      "  _warn_prf(average, modifier, msg_start, len(result))\n",
      "/Library/Frameworks/Python.framework/Versions/3.9/lib/python3.9/site-packages/sklearn/metrics/_classification.py:1308: UndefinedMetricWarning: Precision and F-score are ill-defined and being set to 0.0 in labels with no predicted samples. Use `zero_division` parameter to control this behavior.\n",
      "  _warn_prf(average, modifier, msg_start, len(result))\n",
      "/Library/Frameworks/Python.framework/Versions/3.9/lib/python3.9/site-packages/sklearn/metrics/_classification.py:1308: UndefinedMetricWarning: Precision and F-score are ill-defined and being set to 0.0 in labels with no predicted samples. Use `zero_division` parameter to control this behavior.\n",
      "  _warn_prf(average, modifier, msg_start, len(result))\n"
     ]
    },
    {
     "name": "stdout",
     "output_type": "stream",
     "text": [
      "Accuracy on training data = 0.569367\n",
      "[[305 137   5]\n",
      " [197 392  38]\n",
      " [ 18 150  58]]\n",
      "              precision    recall  f1-score   support\n",
      "\n",
      "         0.0       0.59      0.68      0.63       447\n",
      "         1.0       0.58      0.63      0.60       627\n",
      "         2.0       0.57      0.26      0.35       226\n",
      "\n",
      "    accuracy                           0.58      1300\n",
      "   macro avg       0.58      0.52      0.53      1300\n",
      "weighted avg       0.58      0.58      0.57      1300\n",
      "\n",
      "Accuracy on test data = 0.580769\n",
      "Accuracy on training data = 0.610160\n",
      "[[308 134   5]\n",
      " [176 388  63]\n",
      " [ 14 126  86]]\n",
      "              precision    recall  f1-score   support\n",
      "\n",
      "         0.0       0.62      0.69      0.65       447\n",
      "         1.0       0.60      0.62      0.61       627\n",
      "         2.0       0.56      0.38      0.45       226\n",
      "\n",
      "    accuracy                           0.60      1300\n",
      "   macro avg       0.59      0.56      0.57      1300\n",
      "weighted avg       0.60      0.60      0.60      1300\n",
      "\n",
      "Accuracy on test data = 0.601538\n",
      "Accuracy on training data = 0.616894\n",
      "[[307 135   5]\n",
      " [173 378  76]\n",
      " [ 13 120  93]]\n",
      "              precision    recall  f1-score   support\n",
      "\n",
      "         0.0       0.62      0.69      0.65       447\n",
      "         1.0       0.60      0.60      0.60       627\n",
      "         2.0       0.53      0.41      0.46       226\n",
      "\n",
      "    accuracy                           0.60      1300\n",
      "   macro avg       0.58      0.57      0.57      1300\n",
      "weighted avg       0.60      0.60      0.59      1300\n",
      "\n",
      "Accuracy on test data = 0.598462\n",
      "Accuracy on training data = 0.615740\n",
      "[[310 132   5]\n",
      " [175 378  74]\n",
      " [ 16 116  94]]\n",
      "              precision    recall  f1-score   support\n",
      "\n",
      "         0.0       0.62      0.69      0.65       447\n",
      "         1.0       0.60      0.60      0.60       627\n",
      "         2.0       0.54      0.42      0.47       226\n",
      "\n",
      "    accuracy                           0.60      1300\n",
      "   macro avg       0.59      0.57      0.58      1300\n",
      "weighted avg       0.60      0.60      0.60      1300\n",
      "\n",
      "Accuracy on test data = 0.601538\n"
     ]
    },
    {
     "data": {
      "text/plain": "<Figure size 432x288 with 1 Axes>",
      "image/png": "[encoded data removed]"
     },
     "metadata": {
      "needs_background": "light"
     },
     "output_type": "display_data"
    },
    {
     "name": "stdout",
     "output_type": "stream",
     "text": [
      "Accuracy on training data = 0.508755\n",
      "[[175 272   0]\n",
      " [109 512   6]\n",
      " [  4 210  12]]\n",
      "              precision    recall  f1-score   support\n",
      "\n",
      "         0.0       0.61      0.39      0.48       447\n",
      "         1.0       0.52      0.82      0.63       627\n",
      "         2.0       0.67      0.05      0.10       226\n",
      "\n",
      "    accuracy                           0.54      1300\n",
      "   macro avg       0.60      0.42      0.40      1300\n",
      "weighted avg       0.57      0.54      0.49      1300\n",
      "\n",
      "Accuracy on test data = 0.537692\n",
      "Accuracy on training data = 0.581104\n",
      "[[288 157   2]\n",
      " [165 429  33]\n",
      " [ 12 154  60]]\n",
      "              precision    recall  f1-score   support\n",
      "\n",
      "         0.0       0.62      0.64      0.63       447\n",
      "         1.0       0.58      0.68      0.63       627\n",
      "         2.0       0.63      0.27      0.37       226\n",
      "\n",
      "    accuracy                           0.60      1300\n",
      "   macro avg       0.61      0.53      0.54      1300\n",
      "weighted avg       0.60      0.60      0.58      1300\n",
      "\n",
      "Accuracy on test data = 0.597692\n",
      "Accuracy on training data = 0.609198\n",
      "[[303 139   5]\n",
      " [175 398  54]\n",
      " [ 15 133  78]]\n",
      "              precision    recall  f1-score   support\n",
      "\n",
      "         0.0       0.61      0.68      0.64       447\n",
      "         1.0       0.59      0.63      0.61       627\n",
      "         2.0       0.57      0.35      0.43       226\n",
      "\n",
      "    accuracy                           0.60      1300\n",
      "   macro avg       0.59      0.55      0.56      1300\n",
      "weighted avg       0.60      0.60      0.59      1300\n",
      "\n",
      "Accuracy on test data = 0.599231\n",
      "Accuracy on training data = 0.617279\n",
      "[[311 130   6]\n",
      " [175 379  73]\n",
      " [ 16 118  92]]\n",
      "              precision    recall  f1-score   support\n",
      "\n",
      "         0.0       0.62      0.70      0.66       447\n",
      "         1.0       0.60      0.60      0.60       627\n",
      "         2.0       0.54      0.41      0.46       226\n",
      "\n",
      "    accuracy                           0.60      1300\n",
      "   macro avg       0.59      0.57      0.57      1300\n",
      "weighted avg       0.60      0.60      0.60      1300\n",
      "\n",
      "Accuracy on test data = 0.601538\n",
      "Accuracy on training data = 0.615163\n",
      "[[311 128   8]\n",
      " [174 378  75]\n",
      " [ 17 113  96]]\n",
      "              precision    recall  f1-score   support\n",
      "\n",
      "         0.0       0.62      0.70      0.66       447\n",
      "         1.0       0.61      0.60      0.61       627\n",
      "         2.0       0.54      0.42      0.47       226\n",
      "\n",
      "    accuracy                           0.60      1300\n",
      "   macro avg       0.59      0.57      0.58      1300\n",
      "weighted avg       0.60      0.60      0.60      1300\n",
      "\n",
      "Accuracy on test data = 0.603846\n",
      "Accuracy on training data = 0.615355\n",
      "[[311 128   8]\n",
      " [168 386  73]\n",
      " [ 17 112  97]]\n",
      "              precision    recall  f1-score   support\n",
      "\n",
      "         0.0       0.63      0.70      0.66       447\n",
      "         1.0       0.62      0.62      0.62       627\n",
      "         2.0       0.54      0.43      0.48       226\n",
      "\n",
      "    accuracy                           0.61      1300\n",
      "   macro avg       0.60      0.58      0.59      1300\n",
      "weighted avg       0.61      0.61      0.61      1300\n",
      "\n",
      "Accuracy on test data = 0.610769\n"
     ]
    },
    {
     "data": {
      "text/plain": "<Figure size 432x288 with 1 Axes>",
      "image/png": "[encoded data removed]"
     },
     "metadata": {
      "needs_background": "light"
     },
     "output_type": "display_data"
    }
   ],
   "source": [
    "X_transformed_train = poly.fit_transform(X_train)\n",
    "X_transformed_test = poly.fit_transform(X_test)\n",
    "train_and_plot(X_transformed_train, y_train, X_transformed_test, y_test)"
   ],
   "metadata": {
    "collapsed": false,
    "pycharm": {
     "name": "#%%\n"
    }
   }
  },
  {
   "cell_type": "markdown",
   "metadata": {
    "pycharm": {
     "name": "#%% md\n"
    }
   },
   "source": [
    "# Logistic Regression Using Polynomial Feature Transformation\n",
    "Refer the given link to know how we can transform features.<br>\n",
    "http://scikit-learn.org/stable/modules/generated/sklearn.preprocessing.PolynomialFeatures.html"
   ]
  }
 ],
 "metadata": {
  "kernelspec": {
   "display_name": "Python 3",
   "language": "python",
   "name": "python3"
  },
  "language_info": {
   "codemirror_mode": {
    "name": "ipython",
    "version": 3
   },
   "file_extension": ".py",
   "mimetype": "text/x-python",
   "name": "python",
   "nbconvert_exporter": "python",
   "pygments_lexer": "ipython3",
   "version": "3.7.7"
  }
 },
 "nbformat": 4,
 "nbformat_minor": 2
}